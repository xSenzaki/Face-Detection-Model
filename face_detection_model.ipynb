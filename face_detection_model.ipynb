{
 "cells": [
  {
   "cell_type": "code",
   "execution_count": null,
   "metadata": {},
   "outputs": [],
   "source": [
    "%pip install ultralytics"
   ]
  },
  {
   "cell_type": "markdown",
   "metadata": {},
   "source": [
    "EXTRACT DATASET FROM ROBOFLOW"
   ]
  },
  {
   "cell_type": "code",
   "execution_count": 1,
   "metadata": {},
   "outputs": [
    {
     "name": "stdout",
     "output_type": "stream",
     "text": [
      "loading Roboflow workspace...\n",
      "loading Roboflow project...\n"
     ]
    },
    {
     "name": "stderr",
     "output_type": "stream",
     "text": [
      "Downloading Dataset Version Zip in Face-Detectron-1 to yolov11:: 100%|██████████| 273098/273098 [00:13<00:00, 19908.31it/s]"
     ]
    },
    {
     "name": "stdout",
     "output_type": "stream",
     "text": [
      "\n"
     ]
    },
    {
     "name": "stderr",
     "output_type": "stream",
     "text": [
      "\n",
      "Extracting Dataset Version Zip to Face-Detectron-1 in yolov11:: 100%|██████████| 15752/15752 [00:12<00:00, 1258.33it/s]\n"
     ]
    }
   ],
   "source": [
    "from roboflow import Roboflow\n",
    "rf = Roboflow(api_key=\"LGCWgmlpkJRtq4M6dp3l\")\n",
    "project = rf.workspace(\"detectron-3dgu3\").project(\"face-detectron\")\n",
    "version = project.version(1)\n",
    "dataset = version.download(\"yolov11\")"
   ]
  },
  {
   "cell_type": "markdown",
   "metadata": {},
   "source": [
    "MODEL TRAINING"
   ]
  },
  {
   "cell_type": "code",
   "execution_count": 2,
   "metadata": {},
   "outputs": [
    {
     "name": "stdout",
     "output_type": "stream",
     "text": [
      "C:\\Users\\RYZEN\\Desktop\\face_model\\Face-Detectron-1\n",
      "Downloading https://github.com/ultralytics/assets/releases/download/v8.3.0/yolov8n.pt to 'yolov8n.pt'...\n"
     ]
    },
    {
     "name": "stderr",
     "output_type": "stream",
     "text": [
      "100%|██████████| 6.25M/6.25M [00:00<00:00, 87.4MB/s]\n"
     ]
    },
    {
     "name": "stdout",
     "output_type": "stream",
     "text": [
      "New https://pypi.org/project/ultralytics/8.3.92 available  Update with 'pip install -U ultralytics'\n",
      "Ultralytics 8.3.3  Python-3.11.5 torch-2.6.0.dev20241001+cu124 CUDA:0 (NVIDIA GeForce GTX 1650 SUPER, 4096MiB)\n",
      "\u001b[34m\u001b[1mengine\\trainer: \u001b[0mtask=detect, mode=train, model=yolov8n.pt, data=C:\\Users\\RYZEN\\Desktop\\face_model\\Face-Detectron-1\\data.yaml, epochs=20, time=None, patience=100, batch=16, imgsz=256, save=True, save_period=-1, cache=False, device=cuda, workers=8, project=face_detection, name=exp1, exist_ok=False, pretrained=True, optimizer=auto, verbose=True, seed=0, deterministic=True, single_cls=False, rect=False, cos_lr=False, close_mosaic=10, resume=False, amp=False, fraction=1.0, profile=False, freeze=None, multi_scale=False, overlap_mask=True, mask_ratio=4, dropout=0.0, val=True, split=val, save_json=False, save_hybrid=False, conf=None, iou=0.7, max_det=300, half=False, dnn=False, plots=True, source=None, vid_stride=1, stream_buffer=False, visualize=False, augment=False, agnostic_nms=False, classes=None, retina_masks=False, embed=None, show=False, save_frames=False, save_txt=False, save_conf=False, save_crop=False, show_labels=True, show_conf=True, show_boxes=True, line_width=None, format=torchscript, keras=False, optimize=False, int8=False, dynamic=False, simplify=True, opset=None, workspace=4, nms=False, lr0=0.01, lrf=0.01, momentum=0.937, weight_decay=0.0005, warmup_epochs=3.0, warmup_momentum=0.8, warmup_bias_lr=0.1, box=7.5, cls=0.5, dfl=1.5, pose=12.0, kobj=1.0, label_smoothing=0.0, nbs=64, hsv_h=0.015, hsv_s=0.7, hsv_v=0.4, degrees=0.0, translate=0.1, scale=0.5, shear=0.0, perspective=0.0, flipud=0.0, fliplr=0.5, bgr=0.0, mosaic=1.0, mixup=0.0, copy_paste=0.0, copy_paste_mode=flip, auto_augment=randaugment, erasing=0.4, crop_fraction=1.0, cfg=None, tracker=botsort.yaml, save_dir=face_detection\\exp1\n",
      "Overriding model.yaml nc=80 with nc=1\n",
      "\n",
      "                   from  n    params  module                                       arguments                     \n",
      "  0                  -1  1       464  ultralytics.nn.modules.conv.Conv             [3, 16, 3, 2]                 \n",
      "  1                  -1  1      4672  ultralytics.nn.modules.conv.Conv             [16, 32, 3, 2]                \n",
      "  2                  -1  1      7360  ultralytics.nn.modules.block.C2f             [32, 32, 1, True]             \n",
      "  3                  -1  1     18560  ultralytics.nn.modules.conv.Conv             [32, 64, 3, 2]                \n",
      "  4                  -1  2     49664  ultralytics.nn.modules.block.C2f             [64, 64, 2, True]             \n",
      "  5                  -1  1     73984  ultralytics.nn.modules.conv.Conv             [64, 128, 3, 2]               \n",
      "  6                  -1  2    197632  ultralytics.nn.modules.block.C2f             [128, 128, 2, True]           \n",
      "  7                  -1  1    295424  ultralytics.nn.modules.conv.Conv             [128, 256, 3, 2]              \n",
      "  8                  -1  1    460288  ultralytics.nn.modules.block.C2f             [256, 256, 1, True]           \n",
      "  9                  -1  1    164608  ultralytics.nn.modules.block.SPPF            [256, 256, 5]                 \n",
      " 10                  -1  1         0  torch.nn.modules.upsampling.Upsample         [None, 2, 'nearest']          \n",
      " 11             [-1, 6]  1         0  ultralytics.nn.modules.conv.Concat           [1]                           \n",
      " 12                  -1  1    148224  ultralytics.nn.modules.block.C2f             [384, 128, 1]                 \n",
      " 13                  -1  1         0  torch.nn.modules.upsampling.Upsample         [None, 2, 'nearest']          \n",
      " 14             [-1, 4]  1         0  ultralytics.nn.modules.conv.Concat           [1]                           \n",
      " 15                  -1  1     37248  ultralytics.nn.modules.block.C2f             [192, 64, 1]                  \n",
      " 16                  -1  1     36992  ultralytics.nn.modules.conv.Conv             [64, 64, 3, 2]                \n",
      " 17            [-1, 12]  1         0  ultralytics.nn.modules.conv.Concat           [1]                           \n",
      " 18                  -1  1    123648  ultralytics.nn.modules.block.C2f             [192, 128, 1]                 \n",
      " 19                  -1  1    147712  ultralytics.nn.modules.conv.Conv             [128, 128, 3, 2]              \n",
      " 20             [-1, 9]  1         0  ultralytics.nn.modules.conv.Concat           [1]                           \n",
      " 21                  -1  1    493056  ultralytics.nn.modules.block.C2f             [384, 256, 1]                 \n",
      " 22        [15, 18, 21]  1    430867  ultralytics.nn.modules.head.Detect           [1, [64, 128, 256]]           \n",
      "Model summary: 249 layers, 2,690,403 parameters, 2,690,387 gradients, 6.9 GFLOPs\n",
      "\n",
      "Transferred 313/391 items from pretrained weights\n",
      "\u001b[34m\u001b[1mTensorBoard: \u001b[0mStart with 'tensorboard --logdir face_detection\\exp1', view at http://localhost:6006/\n",
      "Freezing layer 'model.22.dfl.conv.weight'\n"
     ]
    },
    {
     "name": "stderr",
     "output_type": "stream",
     "text": [
      "\u001b[34m\u001b[1mtrain: \u001b[0mScanning C:\\Users\\RYZEN\\Desktop\\face_model\\Face-Detectron-1\\train\\labels... 6885 images, 1302 backgrounds, 0 corrupt: 100%|██████████| 6885/6885 [00:15<00:00, 453.81it/s]\n"
     ]
    },
    {
     "name": "stdout",
     "output_type": "stream",
     "text": [
      "\u001b[34m\u001b[1mtrain: \u001b[0mNew cache created: C:\\Users\\RYZEN\\Desktop\\face_model\\Face-Detectron-1\\train\\labels.cache\n"
     ]
    },
    {
     "name": "stderr",
     "output_type": "stream",
     "text": [
      "\u001b[34m\u001b[1mval: \u001b[0mScanning C:\\Users\\RYZEN\\Desktop\\face_model\\Face-Detectron-1\\valid\\labels... 657 images, 118 backgrounds, 0 corrupt: 100%|██████████| 657/657 [00:01<00:00, 379.90it/s]\n"
     ]
    },
    {
     "name": "stdout",
     "output_type": "stream",
     "text": [
      "\u001b[34m\u001b[1mval: \u001b[0mNew cache created: C:\\Users\\RYZEN\\Desktop\\face_model\\Face-Detectron-1\\valid\\labels.cache\n",
      "Plotting labels to face_detection\\exp1\\labels.jpg... \n",
      "\u001b[34m\u001b[1moptimizer:\u001b[0m 'optimizer=auto' found, ignoring 'lr0=0.01' and 'momentum=0.937' and determining best 'optimizer', 'lr0' and 'momentum' automatically... \n",
      "\u001b[34m\u001b[1moptimizer:\u001b[0m AdamW(lr=0.002, momentum=0.9) with parameter groups 63 weight(decay=0.0), 70 weight(decay=0.0005), 69 bias(decay=0.0)\n",
      "\u001b[34m\u001b[1mTensorBoard: \u001b[0mmodel graph visualization added \n",
      "Image sizes 256 train, 256 val\n",
      "Using 8 dataloader workers\n",
      "Logging results to \u001b[1mface_detection\\exp1\u001b[0m\n",
      "Starting training for 20 epochs...\n",
      "\n",
      "      Epoch    GPU_mem   box_loss   cls_loss   dfl_loss  Instances       Size\n"
     ]
    },
    {
     "name": "stderr",
     "output_type": "stream",
     "text": [
      "       1/20     0.786G      1.619      1.755       1.33         10        256: 100%|██████████| 431/431 [01:00<00:00,  7.17it/s]\n",
      "                 Class     Images  Instances      Box(P          R      mAP50  mAP50-95): 100%|██████████| 21/21 [00:04<00:00,  4.63it/s]\n"
     ]
    },
    {
     "name": "stdout",
     "output_type": "stream",
     "text": [
      "                   all        657       1198      0.667      0.558      0.599      0.304\n",
      "\n",
      "      Epoch    GPU_mem   box_loss   cls_loss   dfl_loss  Instances       Size\n"
     ]
    },
    {
     "name": "stderr",
     "output_type": "stream",
     "text": [
      "       2/20     0.786G      1.554      1.251      1.325         11        256: 100%|██████████| 431/431 [00:55<00:00,  7.82it/s]\n",
      "                 Class     Images  Instances      Box(P          R      mAP50  mAP50-95): 100%|██████████| 21/21 [00:03<00:00,  5.38it/s]"
     ]
    },
    {
     "name": "stdout",
     "output_type": "stream",
     "text": [
      "                   all        657       1198      0.783      0.593      0.659      0.326\n"
     ]
    },
    {
     "name": "stderr",
     "output_type": "stream",
     "text": [
      "\n"
     ]
    },
    {
     "name": "stdout",
     "output_type": "stream",
     "text": [
      "\n",
      "      Epoch    GPU_mem   box_loss   cls_loss   dfl_loss  Instances       Size\n"
     ]
    },
    {
     "name": "stderr",
     "output_type": "stream",
     "text": [
      "       3/20     0.782G      1.537      1.157      1.317          6        256: 100%|██████████| 431/431 [00:52<00:00,  8.24it/s]\n",
      "                 Class     Images  Instances      Box(P          R      mAP50  mAP50-95): 100%|██████████| 21/21 [00:03<00:00,  5.33it/s]"
     ]
    },
    {
     "name": "stdout",
     "output_type": "stream",
     "text": [
      "                   all        657       1198      0.805      0.583      0.666      0.344\n"
     ]
    },
    {
     "name": "stderr",
     "output_type": "stream",
     "text": [
      "\n"
     ]
    },
    {
     "name": "stdout",
     "output_type": "stream",
     "text": [
      "\n",
      "      Epoch    GPU_mem   box_loss   cls_loss   dfl_loss  Instances       Size\n"
     ]
    },
    {
     "name": "stderr",
     "output_type": "stream",
     "text": [
      "       4/20     0.784G      1.482      1.055      1.301         17        256: 100%|██████████| 431/431 [00:52<00:00,  8.23it/s]\n",
      "                 Class     Images  Instances      Box(P          R      mAP50  mAP50-95): 100%|██████████| 21/21 [00:03<00:00,  5.34it/s]"
     ]
    },
    {
     "name": "stdout",
     "output_type": "stream",
     "text": [
      "                   all        657       1198      0.822      0.592      0.692      0.376\n"
     ]
    },
    {
     "name": "stderr",
     "output_type": "stream",
     "text": [
      "\n"
     ]
    },
    {
     "name": "stdout",
     "output_type": "stream",
     "text": [
      "\n",
      "      Epoch    GPU_mem   box_loss   cls_loss   dfl_loss  Instances       Size\n"
     ]
    },
    {
     "name": "stderr",
     "output_type": "stream",
     "text": [
      "       5/20     0.782G      1.442     0.9997      1.274         11        256: 100%|██████████| 431/431 [00:52<00:00,  8.27it/s]\n",
      "                 Class     Images  Instances      Box(P          R      mAP50  mAP50-95): 100%|██████████| 21/21 [00:03<00:00,  5.28it/s]"
     ]
    },
    {
     "name": "stdout",
     "output_type": "stream",
     "text": [
      "                   all        657       1198       0.83      0.675      0.754      0.414\n"
     ]
    },
    {
     "name": "stderr",
     "output_type": "stream",
     "text": [
      "\n"
     ]
    },
    {
     "name": "stdout",
     "output_type": "stream",
     "text": [
      "\n",
      "      Epoch    GPU_mem   box_loss   cls_loss   dfl_loss  Instances       Size\n"
     ]
    },
    {
     "name": "stderr",
     "output_type": "stream",
     "text": [
      "       6/20     0.772G      1.377     0.9463      1.239         16        256: 100%|██████████| 431/431 [00:52<00:00,  8.25it/s]\n",
      "                 Class     Images  Instances      Box(P          R      mAP50  mAP50-95): 100%|██████████| 21/21 [00:04<00:00,  5.12it/s]"
     ]
    },
    {
     "name": "stdout",
     "output_type": "stream",
     "text": [
      "                   all        657       1198      0.841      0.681      0.766      0.445\n"
     ]
    },
    {
     "name": "stderr",
     "output_type": "stream",
     "text": [
      "\n"
     ]
    },
    {
     "name": "stdout",
     "output_type": "stream",
     "text": [
      "\n",
      "      Epoch    GPU_mem   box_loss   cls_loss   dfl_loss  Instances       Size\n"
     ]
    },
    {
     "name": "stderr",
     "output_type": "stream",
     "text": [
      "       7/20      0.78G      1.354     0.9004      1.223          6        256: 100%|██████████| 431/431 [00:52<00:00,  8.22it/s]\n",
      "                 Class     Images  Instances      Box(P          R      mAP50  mAP50-95): 100%|██████████| 21/21 [00:03<00:00,  5.32it/s]"
     ]
    },
    {
     "name": "stdout",
     "output_type": "stream",
     "text": [
      "                   all        657       1198      0.894      0.649      0.761      0.443\n"
     ]
    },
    {
     "name": "stderr",
     "output_type": "stream",
     "text": [
      "\n"
     ]
    },
    {
     "name": "stdout",
     "output_type": "stream",
     "text": [
      "\n",
      "      Epoch    GPU_mem   box_loss   cls_loss   dfl_loss  Instances       Size\n"
     ]
    },
    {
     "name": "stderr",
     "output_type": "stream",
     "text": [
      "       8/20     0.782G      1.303     0.8622      1.196         23        256: 100%|██████████| 431/431 [00:52<00:00,  8.22it/s]\n",
      "                 Class     Images  Instances      Box(P          R      mAP50  mAP50-95): 100%|██████████| 21/21 [00:03<00:00,  5.41it/s]"
     ]
    },
    {
     "name": "stdout",
     "output_type": "stream",
     "text": [
      "                   all        657       1198      0.886      0.674      0.781      0.476\n"
     ]
    },
    {
     "name": "stderr",
     "output_type": "stream",
     "text": [
      "\n"
     ]
    },
    {
     "name": "stdout",
     "output_type": "stream",
     "text": [
      "\n",
      "      Epoch    GPU_mem   box_loss   cls_loss   dfl_loss  Instances       Size\n"
     ]
    },
    {
     "name": "stderr",
     "output_type": "stream",
     "text": [
      "       9/20     0.782G       1.28     0.8253      1.189         29        256: 100%|██████████| 431/431 [00:52<00:00,  8.29it/s]\n",
      "                 Class     Images  Instances      Box(P          R      mAP50  mAP50-95): 100%|██████████| 21/21 [00:03<00:00,  5.45it/s]"
     ]
    },
    {
     "name": "stdout",
     "output_type": "stream",
     "text": [
      "                   all        657       1198      0.861      0.703      0.795      0.499\n"
     ]
    },
    {
     "name": "stderr",
     "output_type": "stream",
     "text": [
      "\n"
     ]
    },
    {
     "name": "stdout",
     "output_type": "stream",
     "text": [
      "\n",
      "      Epoch    GPU_mem   box_loss   cls_loss   dfl_loss  Instances       Size\n"
     ]
    },
    {
     "name": "stderr",
     "output_type": "stream",
     "text": [
      "      10/20      0.77G      1.238     0.7871      1.167         12        256: 100%|██████████| 431/431 [00:52<00:00,  8.22it/s]\n",
      "                 Class     Images  Instances      Box(P          R      mAP50  mAP50-95): 100%|██████████| 21/21 [00:03<00:00,  5.36it/s]"
     ]
    },
    {
     "name": "stdout",
     "output_type": "stream",
     "text": [
      "                   all        657       1198      0.877      0.717      0.806      0.492\n"
     ]
    },
    {
     "name": "stderr",
     "output_type": "stream",
     "text": [
      "\n"
     ]
    },
    {
     "name": "stdout",
     "output_type": "stream",
     "text": [
      "Closing dataloader mosaic\n",
      "\n",
      "      Epoch    GPU_mem   box_loss   cls_loss   dfl_loss  Instances       Size\n"
     ]
    },
    {
     "name": "stderr",
     "output_type": "stream",
     "text": [
      "      11/20      0.78G      1.169     0.6778       1.15          7        256: 100%|██████████| 431/431 [00:52<00:00,  8.27it/s]\n",
      "                 Class     Images  Instances      Box(P          R      mAP50  mAP50-95): 100%|██████████| 21/21 [00:03<00:00,  5.34it/s]\n"
     ]
    },
    {
     "name": "stdout",
     "output_type": "stream",
     "text": [
      "                   all        657       1198      0.883      0.695        0.8      0.509\n",
      "\n",
      "      Epoch    GPU_mem   box_loss   cls_loss   dfl_loss  Instances       Size\n"
     ]
    },
    {
     "name": "stderr",
     "output_type": "stream",
     "text": [
      "      12/20     0.782G      1.125      0.648       1.13          4        256: 100%|██████████| 431/431 [00:52<00:00,  8.29it/s]\n",
      "                 Class     Images  Instances      Box(P          R      mAP50  mAP50-95): 100%|██████████| 21/21 [00:03<00:00,  5.46it/s]"
     ]
    },
    {
     "name": "stdout",
     "output_type": "stream",
     "text": [
      "                   all        657       1198      0.893      0.716      0.807      0.514\n"
     ]
    },
    {
     "name": "stderr",
     "output_type": "stream",
     "text": [
      "\n"
     ]
    },
    {
     "name": "stdout",
     "output_type": "stream",
     "text": [
      "\n",
      "      Epoch    GPU_mem   box_loss   cls_loss   dfl_loss  Instances       Size\n"
     ]
    },
    {
     "name": "stderr",
     "output_type": "stream",
     "text": [
      "      13/20     0.782G      1.085     0.6111        1.1          9        256: 100%|██████████| 431/431 [00:51<00:00,  8.32it/s]\n",
      "                 Class     Images  Instances      Box(P          R      mAP50  mAP50-95): 100%|██████████| 21/21 [00:03<00:00,  5.29it/s]"
     ]
    },
    {
     "name": "stdout",
     "output_type": "stream",
     "text": [
      "                   all        657       1198      0.904      0.714       0.82      0.527\n"
     ]
    },
    {
     "name": "stderr",
     "output_type": "stream",
     "text": [
      "\n"
     ]
    },
    {
     "name": "stdout",
     "output_type": "stream",
     "text": [
      "\n",
      "      Epoch    GPU_mem   box_loss   cls_loss   dfl_loss  Instances       Size\n"
     ]
    },
    {
     "name": "stderr",
     "output_type": "stream",
     "text": [
      "      14/20      0.77G      1.049     0.5847      1.081         11        256: 100%|██████████| 431/431 [00:52<00:00,  8.23it/s]\n",
      "                 Class     Images  Instances      Box(P          R      mAP50  mAP50-95): 100%|██████████| 21/21 [00:03<00:00,  5.42it/s]"
     ]
    },
    {
     "name": "stdout",
     "output_type": "stream",
     "text": [
      "                   all        657       1198       0.92      0.706       0.82      0.536\n"
     ]
    },
    {
     "name": "stderr",
     "output_type": "stream",
     "text": [
      "\n"
     ]
    },
    {
     "name": "stdout",
     "output_type": "stream",
     "text": [
      "\n",
      "      Epoch    GPU_mem   box_loss   cls_loss   dfl_loss  Instances       Size\n"
     ]
    },
    {
     "name": "stderr",
     "output_type": "stream",
     "text": [
      "      15/20      0.78G       1.02     0.5573      1.064          5        256: 100%|██████████| 431/431 [00:52<00:00,  8.20it/s]\n",
      "                 Class     Images  Instances      Box(P          R      mAP50  mAP50-95): 100%|██████████| 21/21 [00:03<00:00,  5.41it/s]"
     ]
    },
    {
     "name": "stdout",
     "output_type": "stream",
     "text": [
      "                   all        657       1198      0.897       0.72      0.808       0.53\n"
     ]
    },
    {
     "name": "stderr",
     "output_type": "stream",
     "text": [
      "\n"
     ]
    },
    {
     "name": "stdout",
     "output_type": "stream",
     "text": [
      "\n",
      "      Epoch    GPU_mem   box_loss   cls_loss   dfl_loss  Instances       Size\n"
     ]
    },
    {
     "name": "stderr",
     "output_type": "stream",
     "text": [
      "      16/20     0.782G     0.9769     0.5345      1.046         10        256: 100%|██████████| 431/431 [00:52<00:00,  8.28it/s]\n",
      "                 Class     Images  Instances      Box(P          R      mAP50  mAP50-95): 100%|██████████| 21/21 [00:03<00:00,  5.43it/s]"
     ]
    },
    {
     "name": "stdout",
     "output_type": "stream",
     "text": [
      "                   all        657       1198      0.896      0.748      0.834       0.55\n"
     ]
    },
    {
     "name": "stderr",
     "output_type": "stream",
     "text": [
      "\n"
     ]
    },
    {
     "name": "stdout",
     "output_type": "stream",
     "text": [
      "\n",
      "      Epoch    GPU_mem   box_loss   cls_loss   dfl_loss  Instances       Size\n"
     ]
    },
    {
     "name": "stderr",
     "output_type": "stream",
     "text": [
      "      17/20     0.782G     0.9414     0.5115      1.028          7        256: 100%|██████████| 431/431 [00:52<00:00,  8.25it/s]\n",
      "                 Class     Images  Instances      Box(P          R      mAP50  mAP50-95): 100%|██████████| 21/21 [00:03<00:00,  5.49it/s]"
     ]
    },
    {
     "name": "stdout",
     "output_type": "stream",
     "text": [
      "                   all        657       1198      0.918      0.733      0.841      0.568\n"
     ]
    },
    {
     "name": "stderr",
     "output_type": "stream",
     "text": [
      "\n"
     ]
    },
    {
     "name": "stdout",
     "output_type": "stream",
     "text": [
      "\n",
      "      Epoch    GPU_mem   box_loss   cls_loss   dfl_loss  Instances       Size\n"
     ]
    },
    {
     "name": "stderr",
     "output_type": "stream",
     "text": [
      "      18/20      0.77G     0.9117     0.4921      1.009          6        256: 100%|██████████| 431/431 [00:52<00:00,  8.23it/s]\n",
      "                 Class     Images  Instances      Box(P          R      mAP50  mAP50-95): 100%|██████████| 21/21 [00:03<00:00,  5.47it/s]"
     ]
    },
    {
     "name": "stdout",
     "output_type": "stream",
     "text": [
      "                   all        657       1198      0.922      0.752      0.847      0.567\n"
     ]
    },
    {
     "name": "stderr",
     "output_type": "stream",
     "text": [
      "\n"
     ]
    },
    {
     "name": "stdout",
     "output_type": "stream",
     "text": [
      "\n",
      "      Epoch    GPU_mem   box_loss   cls_loss   dfl_loss  Instances       Size\n"
     ]
    },
    {
     "name": "stderr",
     "output_type": "stream",
     "text": [
      "      19/20      0.78G     0.8898     0.4744     0.9976          4        256: 100%|██████████| 431/431 [00:51<00:00,  8.32it/s]\n",
      "                 Class     Images  Instances      Box(P          R      mAP50  mAP50-95): 100%|██████████| 21/21 [00:03<00:00,  5.35it/s]"
     ]
    },
    {
     "name": "stdout",
     "output_type": "stream",
     "text": [
      "                   all        657       1198       0.93      0.751      0.852      0.578\n"
     ]
    },
    {
     "name": "stderr",
     "output_type": "stream",
     "text": [
      "\n"
     ]
    },
    {
     "name": "stdout",
     "output_type": "stream",
     "text": [
      "\n",
      "      Epoch    GPU_mem   box_loss   cls_loss   dfl_loss  Instances       Size\n"
     ]
    },
    {
     "name": "stderr",
     "output_type": "stream",
     "text": [
      "      20/20     0.782G     0.8547     0.4594     0.9844         11        256: 100%|██████████| 431/431 [00:59<00:00,  7.21it/s]\n",
      "                 Class     Images  Instances      Box(P          R      mAP50  mAP50-95): 100%|██████████| 21/21 [00:03<00:00,  5.53it/s]"
     ]
    },
    {
     "name": "stdout",
     "output_type": "stream",
     "text": [
      "                   all        657       1198      0.933      0.754      0.854      0.584\n"
     ]
    },
    {
     "name": "stderr",
     "output_type": "stream",
     "text": [
      "\n"
     ]
    },
    {
     "name": "stdout",
     "output_type": "stream",
     "text": [
      "\n",
      "20 epochs completed in 0.333 hours.\n",
      "Optimizer stripped from face_detection\\exp1\\weights\\last.pt, 5.6MB\n",
      "Optimizer stripped from face_detection\\exp1\\weights\\best.pt, 5.6MB\n",
      "\n",
      "Validating face_detection\\exp1\\weights\\best.pt...\n",
      "Ultralytics 8.3.3  Python-3.11.5 torch-2.6.0.dev20241001+cu124 CUDA:0 (NVIDIA GeForce GTX 1650 SUPER, 4096MiB)\n",
      "Model summary (fused): 186 layers, 2,684,563 parameters, 0 gradients, 6.8 GFLOPs\n"
     ]
    },
    {
     "name": "stderr",
     "output_type": "stream",
     "text": [
      "                 Class     Images  Instances      Box(P          R      mAP50  mAP50-95): 100%|██████████| 21/21 [00:04<00:00,  4.50it/s]\n"
     ]
    },
    {
     "name": "stdout",
     "output_type": "stream",
     "text": [
      "                   all        657       1198      0.933      0.754      0.854      0.584\n",
      "Speed: 0.1ms preprocess, 1.7ms inference, 0.0ms loss, 1.1ms postprocess per image\n",
      "Results saved to \u001b[1mface_detection\\exp1\u001b[0m\n",
      "Training Results: ultralytics.utils.metrics.DetMetrics object with attributes:\n",
      "\n",
      "ap_class_index: array([0])\n",
      "box: ultralytics.utils.metrics.Metric object\n",
      "confusion_matrix: <ultralytics.utils.metrics.ConfusionMatrix object at 0x00000226A06CC610>\n",
      "curves: ['Precision-Recall(B)', 'F1-Confidence(B)', 'Precision-Confidence(B)', 'Recall-Confidence(B)']\n",
      "curves_results: [[array([          0,    0.001001,    0.002002,    0.003003,    0.004004,    0.005005,    0.006006,    0.007007,    0.008008,    0.009009,     0.01001,    0.011011,    0.012012,    0.013013,    0.014014,    0.015015,    0.016016,    0.017017,    0.018018,    0.019019,     0.02002,    0.021021,    0.022022,    0.023023,\n",
      "          0.024024,    0.025025,    0.026026,    0.027027,    0.028028,    0.029029,     0.03003,    0.031031,    0.032032,    0.033033,    0.034034,    0.035035,    0.036036,    0.037037,    0.038038,    0.039039,     0.04004,    0.041041,    0.042042,    0.043043,    0.044044,    0.045045,    0.046046,    0.047047,\n",
      "          0.048048,    0.049049,     0.05005,    0.051051,    0.052052,    0.053053,    0.054054,    0.055055,    0.056056,    0.057057,    0.058058,    0.059059,     0.06006,    0.061061,    0.062062,    0.063063,    0.064064,    0.065065,    0.066066,    0.067067,    0.068068,    0.069069,     0.07007,    0.071071,\n",
      "          0.072072,    0.073073,    0.074074,    0.075075,    0.076076,    0.077077,    0.078078,    0.079079,     0.08008,    0.081081,    0.082082,    0.083083,    0.084084,    0.085085,    0.086086,    0.087087,    0.088088,    0.089089,     0.09009,    0.091091,    0.092092,    0.093093,    0.094094,    0.095095,\n",
      "          0.096096,    0.097097,    0.098098,    0.099099,      0.1001,      0.1011,      0.1021,      0.1031,      0.1041,     0.10511,     0.10611,     0.10711,     0.10811,     0.10911,     0.11011,     0.11111,     0.11211,     0.11311,     0.11411,     0.11512,     0.11612,     0.11712,     0.11812,     0.11912,\n",
      "           0.12012,     0.12112,     0.12212,     0.12312,     0.12412,     0.12513,     0.12613,     0.12713,     0.12813,     0.12913,     0.13013,     0.13113,     0.13213,     0.13313,     0.13413,     0.13514,     0.13614,     0.13714,     0.13814,     0.13914,     0.14014,     0.14114,     0.14214,     0.14314,\n",
      "           0.14414,     0.14515,     0.14615,     0.14715,     0.14815,     0.14915,     0.15015,     0.15115,     0.15215,     0.15315,     0.15415,     0.15516,     0.15616,     0.15716,     0.15816,     0.15916,     0.16016,     0.16116,     0.16216,     0.16316,     0.16416,     0.16517,     0.16617,     0.16717,\n",
      "           0.16817,     0.16917,     0.17017,     0.17117,     0.17217,     0.17317,     0.17417,     0.17518,     0.17618,     0.17718,     0.17818,     0.17918,     0.18018,     0.18118,     0.18218,     0.18318,     0.18418,     0.18519,     0.18619,     0.18719,     0.18819,     0.18919,     0.19019,     0.19119,\n",
      "           0.19219,     0.19319,     0.19419,      0.1952,      0.1962,      0.1972,      0.1982,      0.1992,      0.2002,      0.2012,      0.2022,      0.2032,      0.2042,     0.20521,     0.20621,     0.20721,     0.20821,     0.20921,     0.21021,     0.21121,     0.21221,     0.21321,     0.21421,     0.21522,\n",
      "           0.21622,     0.21722,     0.21822,     0.21922,     0.22022,     0.22122,     0.22222,     0.22322,     0.22422,     0.22523,     0.22623,     0.22723,     0.22823,     0.22923,     0.23023,     0.23123,     0.23223,     0.23323,     0.23423,     0.23524,     0.23624,     0.23724,     0.23824,     0.23924,\n",
      "           0.24024,     0.24124,     0.24224,     0.24324,     0.24424,     0.24525,     0.24625,     0.24725,     0.24825,     0.24925,     0.25025,     0.25125,     0.25225,     0.25325,     0.25425,     0.25526,     0.25626,     0.25726,     0.25826,     0.25926,     0.26026,     0.26126,     0.26226,     0.26326,\n",
      "           0.26426,     0.26527,     0.26627,     0.26727,     0.26827,     0.26927,     0.27027,     0.27127,     0.27227,     0.27327,     0.27427,     0.27528,     0.27628,     0.27728,     0.27828,     0.27928,     0.28028,     0.28128,     0.28228,     0.28328,     0.28428,     0.28529,     0.28629,     0.28729,\n",
      "           0.28829,     0.28929,     0.29029,     0.29129,     0.29229,     0.29329,     0.29429,      0.2953,      0.2963,      0.2973,      0.2983,      0.2993,      0.3003,      0.3013,      0.3023,      0.3033,      0.3043,     0.30531,     0.30631,     0.30731,     0.30831,     0.30931,     0.31031,     0.31131,\n",
      "           0.31231,     0.31331,     0.31431,     0.31532,     0.31632,     0.31732,     0.31832,     0.31932,     0.32032,     0.32132,     0.32232,     0.32332,     0.32432,     0.32533,     0.32633,     0.32733,     0.32833,     0.32933,     0.33033,     0.33133,     0.33233,     0.33333,     0.33433,     0.33534,\n",
      "           0.33634,     0.33734,     0.33834,     0.33934,     0.34034,     0.34134,     0.34234,     0.34334,     0.34434,     0.34535,     0.34635,     0.34735,     0.34835,     0.34935,     0.35035,     0.35135,     0.35235,     0.35335,     0.35435,     0.35536,     0.35636,     0.35736,     0.35836,     0.35936,\n",
      "           0.36036,     0.36136,     0.36236,     0.36336,     0.36436,     0.36537,     0.36637,     0.36737,     0.36837,     0.36937,     0.37037,     0.37137,     0.37237,     0.37337,     0.37437,     0.37538,     0.37638,     0.37738,     0.37838,     0.37938,     0.38038,     0.38138,     0.38238,     0.38338,\n",
      "           0.38438,     0.38539,     0.38639,     0.38739,     0.38839,     0.38939,     0.39039,     0.39139,     0.39239,     0.39339,     0.39439,      0.3954,      0.3964,      0.3974,      0.3984,      0.3994,      0.4004,      0.4014,      0.4024,      0.4034,      0.4044,     0.40541,     0.40641,     0.40741,\n",
      "           0.40841,     0.40941,     0.41041,     0.41141,     0.41241,     0.41341,     0.41441,     0.41542,     0.41642,     0.41742,     0.41842,     0.41942,     0.42042,     0.42142,     0.42242,     0.42342,     0.42442,     0.42543,     0.42643,     0.42743,     0.42843,     0.42943,     0.43043,     0.43143,\n",
      "           0.43243,     0.43343,     0.43443,     0.43544,     0.43644,     0.43744,     0.43844,     0.43944,     0.44044,     0.44144,     0.44244,     0.44344,     0.44444,     0.44545,     0.44645,     0.44745,     0.44845,     0.44945,     0.45045,     0.45145,     0.45245,     0.45345,     0.45445,     0.45546,\n",
      "           0.45646,     0.45746,     0.45846,     0.45946,     0.46046,     0.46146,     0.46246,     0.46346,     0.46446,     0.46547,     0.46647,     0.46747,     0.46847,     0.46947,     0.47047,     0.47147,     0.47247,     0.47347,     0.47447,     0.47548,     0.47648,     0.47748,     0.47848,     0.47948,\n",
      "           0.48048,     0.48148,     0.48248,     0.48348,     0.48448,     0.48549,     0.48649,     0.48749,     0.48849,     0.48949,     0.49049,     0.49149,     0.49249,     0.49349,     0.49449,      0.4955,      0.4965,      0.4975,      0.4985,      0.4995,      0.5005,      0.5015,      0.5025,      0.5035,\n",
      "            0.5045,     0.50551,     0.50651,     0.50751,     0.50851,     0.50951,     0.51051,     0.51151,     0.51251,     0.51351,     0.51451,     0.51552,     0.51652,     0.51752,     0.51852,     0.51952,     0.52052,     0.52152,     0.52252,     0.52352,     0.52452,     0.52553,     0.52653,     0.52753,\n",
      "           0.52853,     0.52953,     0.53053,     0.53153,     0.53253,     0.53353,     0.53453,     0.53554,     0.53654,     0.53754,     0.53854,     0.53954,     0.54054,     0.54154,     0.54254,     0.54354,     0.54454,     0.54555,     0.54655,     0.54755,     0.54855,     0.54955,     0.55055,     0.55155,\n",
      "           0.55255,     0.55355,     0.55455,     0.55556,     0.55656,     0.55756,     0.55856,     0.55956,     0.56056,     0.56156,     0.56256,     0.56356,     0.56456,     0.56557,     0.56657,     0.56757,     0.56857,     0.56957,     0.57057,     0.57157,     0.57257,     0.57357,     0.57457,     0.57558,\n",
      "           0.57658,     0.57758,     0.57858,     0.57958,     0.58058,     0.58158,     0.58258,     0.58358,     0.58458,     0.58559,     0.58659,     0.58759,     0.58859,     0.58959,     0.59059,     0.59159,     0.59259,     0.59359,     0.59459,      0.5956,      0.5966,      0.5976,      0.5986,      0.5996,\n",
      "            0.6006,      0.6016,      0.6026,      0.6036,      0.6046,     0.60561,     0.60661,     0.60761,     0.60861,     0.60961,     0.61061,     0.61161,     0.61261,     0.61361,     0.61461,     0.61562,     0.61662,     0.61762,     0.61862,     0.61962,     0.62062,     0.62162,     0.62262,     0.62362,\n",
      "           0.62462,     0.62563,     0.62663,     0.62763,     0.62863,     0.62963,     0.63063,     0.63163,     0.63263,     0.63363,     0.63463,     0.63564,     0.63664,     0.63764,     0.63864,     0.63964,     0.64064,     0.64164,     0.64264,     0.64364,     0.64464,     0.64565,     0.64665,     0.64765,\n",
      "           0.64865,     0.64965,     0.65065,     0.65165,     0.65265,     0.65365,     0.65465,     0.65566,     0.65666,     0.65766,     0.65866,     0.65966,     0.66066,     0.66166,     0.66266,     0.66366,     0.66466,     0.66567,     0.66667,     0.66767,     0.66867,     0.66967,     0.67067,     0.67167,\n",
      "           0.67267,     0.67367,     0.67467,     0.67568,     0.67668,     0.67768,     0.67868,     0.67968,     0.68068,     0.68168,     0.68268,     0.68368,     0.68468,     0.68569,     0.68669,     0.68769,     0.68869,     0.68969,     0.69069,     0.69169,     0.69269,     0.69369,     0.69469,      0.6957,\n",
      "            0.6967,      0.6977,      0.6987,      0.6997,      0.7007,      0.7017,      0.7027,      0.7037,      0.7047,     0.70571,     0.70671,     0.70771,     0.70871,     0.70971,     0.71071,     0.71171,     0.71271,     0.71371,     0.71471,     0.71572,     0.71672,     0.71772,     0.71872,     0.71972,\n",
      "           0.72072,     0.72172,     0.72272,     0.72372,     0.72472,     0.72573,     0.72673,     0.72773,     0.72873,     0.72973,     0.73073,     0.73173,     0.73273,     0.73373,     0.73473,     0.73574,     0.73674,     0.73774,     0.73874,     0.73974,     0.74074,     0.74174,     0.74274,     0.74374,\n",
      "           0.74474,     0.74575,     0.74675,     0.74775,     0.74875,     0.74975,     0.75075,     0.75175,     0.75275,     0.75375,     0.75475,     0.75576,     0.75676,     0.75776,     0.75876,     0.75976,     0.76076,     0.76176,     0.76276,     0.76376,     0.76476,     0.76577,     0.76677,     0.76777,\n",
      "           0.76877,     0.76977,     0.77077,     0.77177,     0.77277,     0.77377,     0.77477,     0.77578,     0.77678,     0.77778,     0.77878,     0.77978,     0.78078,     0.78178,     0.78278,     0.78378,     0.78478,     0.78579,     0.78679,     0.78779,     0.78879,     0.78979,     0.79079,     0.79179,\n",
      "           0.79279,     0.79379,     0.79479,      0.7958,      0.7968,      0.7978,      0.7988,      0.7998,      0.8008,      0.8018,      0.8028,      0.8038,      0.8048,     0.80581,     0.80681,     0.80781,     0.80881,     0.80981,     0.81081,     0.81181,     0.81281,     0.81381,     0.81481,     0.81582,\n",
      "           0.81682,     0.81782,     0.81882,     0.81982,     0.82082,     0.82182,     0.82282,     0.82382,     0.82482,     0.82583,     0.82683,     0.82783,     0.82883,     0.82983,     0.83083,     0.83183,     0.83283,     0.83383,     0.83483,     0.83584,     0.83684,     0.83784,     0.83884,     0.83984,\n",
      "           0.84084,     0.84184,     0.84284,     0.84384,     0.84484,     0.84585,     0.84685,     0.84785,     0.84885,     0.84985,     0.85085,     0.85185,     0.85285,     0.85385,     0.85485,     0.85586,     0.85686,     0.85786,     0.85886,     0.85986,     0.86086,     0.86186,     0.86286,     0.86386,\n",
      "           0.86486,     0.86587,     0.86687,     0.86787,     0.86887,     0.86987,     0.87087,     0.87187,     0.87287,     0.87387,     0.87487,     0.87588,     0.87688,     0.87788,     0.87888,     0.87988,     0.88088,     0.88188,     0.88288,     0.88388,     0.88488,     0.88589,     0.88689,     0.88789,\n",
      "           0.88889,     0.88989,     0.89089,     0.89189,     0.89289,     0.89389,     0.89489,      0.8959,      0.8969,      0.8979,      0.8989,      0.8999,      0.9009,      0.9019,      0.9029,      0.9039,      0.9049,     0.90591,     0.90691,     0.90791,     0.90891,     0.90991,     0.91091,     0.91191,\n",
      "           0.91291,     0.91391,     0.91491,     0.91592,     0.91692,     0.91792,     0.91892,     0.91992,     0.92092,     0.92192,     0.92292,     0.92392,     0.92492,     0.92593,     0.92693,     0.92793,     0.92893,     0.92993,     0.93093,     0.93193,     0.93293,     0.93393,     0.93493,     0.93594,\n",
      "           0.93694,     0.93794,     0.93894,     0.93994,     0.94094,     0.94194,     0.94294,     0.94394,     0.94494,     0.94595,     0.94695,     0.94795,     0.94895,     0.94995,     0.95095,     0.95195,     0.95295,     0.95395,     0.95495,     0.95596,     0.95696,     0.95796,     0.95896,     0.95996,\n",
      "           0.96096,     0.96196,     0.96296,     0.96396,     0.96496,     0.96597,     0.96697,     0.96797,     0.96897,     0.96997,     0.97097,     0.97197,     0.97297,     0.97397,     0.97497,     0.97598,     0.97698,     0.97798,     0.97898,     0.97998,     0.98098,     0.98198,     0.98298,     0.98398,\n",
      "           0.98498,     0.98599,     0.98699,     0.98799,     0.98899,     0.98999,     0.99099,     0.99199,     0.99299,     0.99399,     0.99499,       0.996,       0.997,       0.998,       0.999,           1]), array([[          1,           1,           1,           1,           1,           1,           1,           1,           1,           1,           1,           1,           1,           1,           1,           1,           1,           1,           1,           1,           1,           1,           1,\n",
      "                  1,           1,           1,           1,           1,           1,           1,           1,           1,           1,           1,           1,           1,           1,           1,           1,           1,           1,           1,           1,           1,           1,           1,\n",
      "                  1,           1,           1,           1,           1,           1,           1,           1,           1,           1,           1,           1,           1,           1,           1,           1,           1,           1,           1,           1,           1,           1,           1,\n",
      "                  1,           1,           1,           1,           1,           1,           1,           1,           1,           1,           1,           1,           1,           1,           1,           1,           1,           1,           1,           1,           1,           1,           1,\n",
      "                  1,           1,           1,           1,           1,           1,           1,           1,           1,           1,           1,           1,           1,           1,           1,           1,           1,           1,           1,           1,           1,           1,           1,\n",
      "                  1,           1,           1,           1,           1,           1,           1,           1,           1,           1,           1,           1,           1,           1,           1,           1,           1,           1,           1,           1,           1,           1,           1,\n",
      "                  1,           1,           1,           1,           1,           1,           1,           1,           1,           1,           1,           1,           1,           1,           1,           1,           1,           1,           1,           1,           1,           1,           1,\n",
      "                  1,           1,           1,           1,           1,           1,           1,           1,           1,           1,           1,           1,           1,     0.99828,     0.99828,     0.99828,     0.99828,     0.99828,     0.99828,     0.99828,     0.99828,     0.99828,     0.99828,\n",
      "            0.99828,     0.99828,     0.99828,     0.99828,     0.99828,     0.99828,     0.99828,     0.99828,     0.99828,     0.99828,     0.99828,     0.99828,     0.99828,     0.99828,     0.99828,     0.99828,     0.99828,     0.99828,     0.99828,     0.99828,     0.99828,     0.99828,     0.99828,\n",
      "            0.99828,     0.99828,     0.99828,     0.99828,     0.99828,     0.99828,     0.99828,     0.99828,     0.99828,     0.99828,     0.99828,     0.99828,     0.99828,     0.99828,     0.99828,     0.99828,     0.99828,     0.99828,     0.99828,     0.99828,     0.99828,     0.99828,     0.99828,\n",
      "            0.99828,     0.99828,     0.99828,     0.99828,     0.99828,     0.99828,     0.99828,     0.99828,     0.99828,     0.99828,     0.99828,     0.99828,     0.99828,     0.99828,     0.99828,     0.99828,     0.99828,     0.99828,     0.99828,     0.99828,     0.99828,     0.99828,     0.99828,\n",
      "            0.99828,     0.99828,     0.99828,     0.99828,     0.99828,     0.99828,     0.99828,     0.99828,     0.99828,     0.99828,     0.99828,     0.99828,     0.99828,     0.99828,     0.99828,     0.99828,     0.99828,     0.99828,     0.99828,     0.99828,     0.99828,     0.99828,     0.99828,\n",
      "            0.99828,     0.99828,     0.99828,     0.99828,     0.99828,     0.99828,     0.99828,     0.99828,     0.99828,     0.99828,     0.99828,     0.99828,     0.99828,     0.99828,     0.99828,     0.99828,     0.99828,     0.99828,     0.99828,     0.99828,     0.99828,     0.99828,     0.99828,\n",
      "            0.99828,     0.99828,     0.99828,     0.99828,     0.99828,     0.99828,     0.99828,     0.99828,     0.99828,     0.99828,     0.99828,     0.99828,     0.99828,     0.99828,     0.99828,     0.99828,     0.99828,     0.99828,     0.99828,     0.99828,     0.99828,     0.99828,     0.99828,\n",
      "            0.99828,     0.99828,     0.99828,     0.99828,     0.99828,     0.99828,     0.99828,     0.99828,     0.99828,     0.99828,     0.99828,     0.99828,     0.99828,     0.99828,     0.99828,     0.99828,     0.99828,     0.99828,     0.99828,     0.99828,     0.99828,     0.99828,     0.99828,\n",
      "            0.99828,     0.99828,     0.99828,     0.99828,     0.99828,     0.99828,     0.99828,     0.99828,     0.99828,     0.99828,     0.99828,     0.99828,     0.99828,     0.99828,     0.99828,     0.99828,     0.99828,     0.99828,     0.99828,     0.99828,     0.99828,     0.99828,     0.99828,\n",
      "            0.99828,     0.99828,     0.99828,     0.99828,     0.99828,     0.99828,     0.99828,     0.99828,     0.99828,     0.99828,     0.99828,     0.99828,     0.99828,     0.99828,     0.99828,     0.99828,     0.99828,     0.99828,     0.99828,     0.99828,     0.99828,     0.99828,     0.99828,\n",
      "            0.99828,     0.99828,     0.99828,     0.99828,     0.99828,     0.99828,     0.99828,     0.99828,     0.99828,     0.99828,     0.99828,     0.99828,     0.99828,     0.99828,     0.99828,     0.99828,     0.99828,     0.99828,     0.99828,     0.99828,     0.99828,     0.99828,     0.99828,\n",
      "            0.99828,     0.99828,     0.99828,     0.99828,     0.99828,     0.99828,     0.99828,     0.99828,     0.99828,     0.99828,     0.99828,     0.99828,     0.99828,     0.99828,     0.99828,     0.99828,     0.99828,     0.99828,     0.99828,     0.99828,     0.99828,     0.99828,     0.99828,\n",
      "            0.99828,     0.99828,     0.99828,     0.99828,     0.99828,     0.99828,     0.99828,     0.99828,     0.99828,     0.99828,     0.99828,     0.99828,     0.99828,     0.99828,     0.99828,     0.99828,     0.99828,     0.99828,     0.99828,     0.99828,     0.99828,     0.99828,     0.99828,\n",
      "            0.99828,     0.99828,     0.99828,     0.99828,     0.99828,     0.99828,     0.99828,     0.99828,     0.99828,     0.99828,     0.99828,     0.99828,     0.99828,     0.99828,     0.99828,     0.99828,     0.99828,     0.99828,     0.99828,     0.99828,     0.99828,     0.99828,     0.99828,\n",
      "            0.99828,     0.99828,     0.99828,     0.99677,     0.99677,     0.99677,     0.99677,     0.99677,     0.99677,     0.99677,     0.99677,     0.99677,     0.99677,     0.99677,     0.99677,     0.99677,     0.99677,     0.99677,     0.99677,     0.99677,     0.99677,     0.99677,     0.99677,\n",
      "            0.99677,     0.99677,     0.99677,     0.99677,     0.99677,     0.99677,     0.99677,     0.99677,     0.99677,     0.99531,     0.99531,     0.99531,     0.99531,     0.99531,     0.99531,     0.99531,     0.99531,     0.99531,     0.99531,     0.99531,     0.99531,     0.99531,     0.99531,\n",
      "            0.99531,     0.99531,     0.99531,     0.99388,     0.99388,     0.99388,     0.99388,     0.99388,     0.99388,     0.99388,     0.99388,     0.99388,     0.99388,     0.99388,     0.99241,     0.99241,     0.99241,     0.98947,     0.98947,     0.98947,     0.98844,     0.98844,     0.98844,\n",
      "            0.98844,     0.98844,     0.98844,     0.98844,     0.98844,     0.98844,     0.98844,     0.98844,     0.98844,     0.98844,     0.98844,     0.98844,     0.98844,     0.98844,     0.98844,     0.98844,     0.98844,     0.98844,     0.98844,     0.98727,     0.98727,     0.98727,     0.98727,\n",
      "            0.98727,     0.98727,     0.98727,     0.98727,     0.98727,     0.98727,     0.98727,     0.98727,     0.98617,     0.98617,     0.98617,     0.98617,     0.98617,     0.98617,     0.98617,     0.98617,     0.98617,     0.98617,     0.98617,     0.98617,     0.98525,     0.98525,     0.98525,\n",
      "            0.98525,     0.98525,     0.98525,     0.98525,     0.98525,     0.98525,     0.98525,     0.98525,     0.98525,     0.98525,     0.98525,     0.98525,     0.98525,     0.98525,     0.98525,     0.98438,     0.98438,     0.98438,     0.98438,     0.98438,     0.98438,     0.98438,     0.98438,\n",
      "            0.98438,     0.98438,     0.98438,     0.98438,     0.98438,     0.98438,     0.98438,     0.98438,     0.98438,     0.98438,     0.98344,     0.98344,     0.98344,     0.98344,     0.98344,     0.98344,     0.98344,     0.98344,     0.98344,     0.98344,     0.98344,     0.98344,     0.98344,\n",
      "            0.98157,     0.98157,     0.98157,     0.98157,     0.98157,     0.98157,     0.98157,     0.98157,     0.98157,     0.98157,     0.98157,     0.98157,     0.98157,     0.98157,     0.98157,     0.98157,     0.98157,     0.98157,     0.98157,     0.98157,     0.98157,     0.98157,     0.98157,\n",
      "            0.97849,     0.97849,     0.97849,     0.97849,     0.97849,     0.97849,     0.97849,     0.97849,     0.97849,     0.97849,     0.97849,     0.97849,     0.97849,     0.97849,     0.97849,     0.97849,     0.97738,     0.97738,      0.9763,      0.9763,      0.9763,     0.97524,     0.97524,\n",
      "            0.97421,     0.97421,     0.97421,     0.97329,     0.97329,     0.97329,     0.97329,     0.97329,     0.97329,     0.97222,     0.97222,     0.97113,     0.97008,     0.96793,     0.96793,     0.96697,     0.96697,     0.96697,     0.96591,      0.9638,      0.9638,     0.96275,     0.96171,\n",
      "            0.96072,     0.95996,     0.95996,     0.95996,     0.95996,     0.95996,     0.95996,     0.95893,     0.95815,     0.95815,     0.95815,     0.95815,     0.95815,     0.95724,     0.95724,     0.95524,     0.95524,     0.95217,     0.95156,     0.95156,     0.95156,     0.95156,     0.95156,\n",
      "            0.95156,     0.95156,     0.94962,     0.94569,     0.94569,     0.94474,     0.94397,     0.94397,     0.94397,     0.94105,     0.94013,     0.93841,     0.93841,     0.93841,     0.93652,     0.93562,     0.93478,     0.93478,     0.93313,     0.93313,     0.93313,     0.93224,     0.92755,\n",
      "            0.92589,     0.92589,     0.92036,     0.91675,       0.915,     0.91335,     0.91162,      0.9099,     0.90748,     0.90748,      0.9042,      0.9042,      0.9042,      0.8999,     0.89932,     0.89932,     0.89855,     0.89702,     0.89702,     0.89539,     0.89323,     0.89323,     0.89323,\n",
      "            0.89079,     0.89005,     0.88857,     0.88711,     0.88711,     0.88638,     0.87825,     0.87281,     0.87052,     0.86905,     0.86442,     0.85908,     0.85791,     0.85791,      0.8504,     0.84392,     0.84392,     0.84271,     0.84137,     0.83493,     0.83377,     0.83377,     0.82904,\n",
      "            0.82776,     0.82019,     0.81895,     0.81429,     0.81187,     0.81135,     0.81016,     0.80913,     0.80913,      0.7879,     0.78698,     0.78698,     0.78463,     0.78292,     0.77831,     0.77664,     0.77013,     0.76316,     0.76077,     0.76077,     0.75515,      0.7519,     0.74755,\n",
      "            0.74326,     0.73378,     0.73128,     0.72668,     0.72319,     0.72234,     0.71246,     0.70563,      0.6975,     0.68909,     0.68883,     0.68339,     0.68339,     0.67718,     0.67604,     0.66711,     0.66123,     0.65546,     0.65442,     0.65422,     0.64923,     0.64822,     0.64598,\n",
      "            0.64579,     0.64479,     0.63738,     0.62462,     0.61364,     0.61277,     0.59872,     0.59343,     0.57182,     0.56056,     0.55717,     0.55621,     0.55377,      0.5455,     0.54374,     0.54199,     0.52235,      0.5218,     0.51102,     0.50459,     0.49715,     0.49644,     0.49017,\n",
      "            0.47769,     0.46563,     0.44876,      0.4422,     0.43948,     0.39902,     0.39315,     0.37912,     0.37227,     0.33354,     0.31032,     0.30188,     0.29577,     0.28929,     0.28792,      0.2775,     0.27038,     0.26947,     0.25313,     0.23207,      0.2197,     0.19337,     0.19057,\n",
      "             0.1806,      0.1779,     0.16536,     0.14616,     0.12906,     0.12089,     0.10881,     0.10767,     0.10654,     0.10541,     0.10427,     0.10314,     0.10201,     0.10087,     0.09974,    0.098607,    0.097473,     0.09634,    0.095207,    0.094073,     0.09294,    0.091806,    0.090673,\n",
      "           0.089539,    0.088406,    0.087273,    0.086139,    0.085006,    0.083872,    0.082739,    0.081606,    0.080472,    0.079339,    0.078205,    0.077072,    0.075939,    0.074805,    0.073672,    0.072538,    0.071405,    0.070271,    0.069138,    0.068005,    0.066871,    0.065738,    0.064604,\n",
      "           0.063471,    0.062338,    0.061204,    0.060071,    0.058937,    0.057804,    0.056671,    0.055537,    0.054404,     0.05327,    0.052137,    0.051003,     0.04987,    0.048737,    0.047603,     0.04647,    0.045336,    0.044203,     0.04307,    0.041936,    0.040803,    0.039669,    0.038536,\n",
      "           0.037403,    0.036269,    0.035136,    0.034002,    0.032869,    0.031736,    0.030602,    0.029469,    0.028335,    0.027202,    0.026068,    0.024935,    0.023802,    0.022668,    0.021535,    0.020401,    0.019268,    0.018135,    0.017001,    0.015868,    0.014734,    0.013601,    0.012468,\n",
      "           0.011334,    0.010201,   0.0090673,   0.0079339,   0.0068005,   0.0056671,   0.0045336,   0.0034002,   0.0022668,   0.0011334,           0]]), 'Recall', 'Precision'], [array([          0,    0.001001,    0.002002,    0.003003,    0.004004,    0.005005,    0.006006,    0.007007,    0.008008,    0.009009,     0.01001,    0.011011,    0.012012,    0.013013,    0.014014,    0.015015,    0.016016,    0.017017,    0.018018,    0.019019,     0.02002,    0.021021,    0.022022,    0.023023,\n",
      "          0.024024,    0.025025,    0.026026,    0.027027,    0.028028,    0.029029,     0.03003,    0.031031,    0.032032,    0.033033,    0.034034,    0.035035,    0.036036,    0.037037,    0.038038,    0.039039,     0.04004,    0.041041,    0.042042,    0.043043,    0.044044,    0.045045,    0.046046,    0.047047,\n",
      "          0.048048,    0.049049,     0.05005,    0.051051,    0.052052,    0.053053,    0.054054,    0.055055,    0.056056,    0.057057,    0.058058,    0.059059,     0.06006,    0.061061,    0.062062,    0.063063,    0.064064,    0.065065,    0.066066,    0.067067,    0.068068,    0.069069,     0.07007,    0.071071,\n",
      "          0.072072,    0.073073,    0.074074,    0.075075,    0.076076,    0.077077,    0.078078,    0.079079,     0.08008,    0.081081,    0.082082,    0.083083,    0.084084,    0.085085,    0.086086,    0.087087,    0.088088,    0.089089,     0.09009,    0.091091,    0.092092,    0.093093,    0.094094,    0.095095,\n",
      "          0.096096,    0.097097,    0.098098,    0.099099,      0.1001,      0.1011,      0.1021,      0.1031,      0.1041,     0.10511,     0.10611,     0.10711,     0.10811,     0.10911,     0.11011,     0.11111,     0.11211,     0.11311,     0.11411,     0.11512,     0.11612,     0.11712,     0.11812,     0.11912,\n",
      "           0.12012,     0.12112,     0.12212,     0.12312,     0.12412,     0.12513,     0.12613,     0.12713,     0.12813,     0.12913,     0.13013,     0.13113,     0.13213,     0.13313,     0.13413,     0.13514,     0.13614,     0.13714,     0.13814,     0.13914,     0.14014,     0.14114,     0.14214,     0.14314,\n",
      "           0.14414,     0.14515,     0.14615,     0.14715,     0.14815,     0.14915,     0.15015,     0.15115,     0.15215,     0.15315,     0.15415,     0.15516,     0.15616,     0.15716,     0.15816,     0.15916,     0.16016,     0.16116,     0.16216,     0.16316,     0.16416,     0.16517,     0.16617,     0.16717,\n",
      "           0.16817,     0.16917,     0.17017,     0.17117,     0.17217,     0.17317,     0.17417,     0.17518,     0.17618,     0.17718,     0.17818,     0.17918,     0.18018,     0.18118,     0.18218,     0.18318,     0.18418,     0.18519,     0.18619,     0.18719,     0.18819,     0.18919,     0.19019,     0.19119,\n",
      "           0.19219,     0.19319,     0.19419,      0.1952,      0.1962,      0.1972,      0.1982,      0.1992,      0.2002,      0.2012,      0.2022,      0.2032,      0.2042,     0.20521,     0.20621,     0.20721,     0.20821,     0.20921,     0.21021,     0.21121,     0.21221,     0.21321,     0.21421,     0.21522,\n",
      "           0.21622,     0.21722,     0.21822,     0.21922,     0.22022,     0.22122,     0.22222,     0.22322,     0.22422,     0.22523,     0.22623,     0.22723,     0.22823,     0.22923,     0.23023,     0.23123,     0.23223,     0.23323,     0.23423,     0.23524,     0.23624,     0.23724,     0.23824,     0.23924,\n",
      "           0.24024,     0.24124,     0.24224,     0.24324,     0.24424,     0.24525,     0.24625,     0.24725,     0.24825,     0.24925,     0.25025,     0.25125,     0.25225,     0.25325,     0.25425,     0.25526,     0.25626,     0.25726,     0.25826,     0.25926,     0.26026,     0.26126,     0.26226,     0.26326,\n",
      "           0.26426,     0.26527,     0.26627,     0.26727,     0.26827,     0.26927,     0.27027,     0.27127,     0.27227,     0.27327,     0.27427,     0.27528,     0.27628,     0.27728,     0.27828,     0.27928,     0.28028,     0.28128,     0.28228,     0.28328,     0.28428,     0.28529,     0.28629,     0.28729,\n",
      "           0.28829,     0.28929,     0.29029,     0.29129,     0.29229,     0.29329,     0.29429,      0.2953,      0.2963,      0.2973,      0.2983,      0.2993,      0.3003,      0.3013,      0.3023,      0.3033,      0.3043,     0.30531,     0.30631,     0.30731,     0.30831,     0.30931,     0.31031,     0.31131,\n",
      "           0.31231,     0.31331,     0.31431,     0.31532,     0.31632,     0.31732,     0.31832,     0.31932,     0.32032,     0.32132,     0.32232,     0.32332,     0.32432,     0.32533,     0.32633,     0.32733,     0.32833,     0.32933,     0.33033,     0.33133,     0.33233,     0.33333,     0.33433,     0.33534,\n",
      "           0.33634,     0.33734,     0.33834,     0.33934,     0.34034,     0.34134,     0.34234,     0.34334,     0.34434,     0.34535,     0.34635,     0.34735,     0.34835,     0.34935,     0.35035,     0.35135,     0.35235,     0.35335,     0.35435,     0.35536,     0.35636,     0.35736,     0.35836,     0.35936,\n",
      "           0.36036,     0.36136,     0.36236,     0.36336,     0.36436,     0.36537,     0.36637,     0.36737,     0.36837,     0.36937,     0.37037,     0.37137,     0.37237,     0.37337,     0.37437,     0.37538,     0.37638,     0.37738,     0.37838,     0.37938,     0.38038,     0.38138,     0.38238,     0.38338,\n",
      "           0.38438,     0.38539,     0.38639,     0.38739,     0.38839,     0.38939,     0.39039,     0.39139,     0.39239,     0.39339,     0.39439,      0.3954,      0.3964,      0.3974,      0.3984,      0.3994,      0.4004,      0.4014,      0.4024,      0.4034,      0.4044,     0.40541,     0.40641,     0.40741,\n",
      "           0.40841,     0.40941,     0.41041,     0.41141,     0.41241,     0.41341,     0.41441,     0.41542,     0.41642,     0.41742,     0.41842,     0.41942,     0.42042,     0.42142,     0.42242,     0.42342,     0.42442,     0.42543,     0.42643,     0.42743,     0.42843,     0.42943,     0.43043,     0.43143,\n",
      "           0.43243,     0.43343,     0.43443,     0.43544,     0.43644,     0.43744,     0.43844,     0.43944,     0.44044,     0.44144,     0.44244,     0.44344,     0.44444,     0.44545,     0.44645,     0.44745,     0.44845,     0.44945,     0.45045,     0.45145,     0.45245,     0.45345,     0.45445,     0.45546,\n",
      "           0.45646,     0.45746,     0.45846,     0.45946,     0.46046,     0.46146,     0.46246,     0.46346,     0.46446,     0.46547,     0.46647,     0.46747,     0.46847,     0.46947,     0.47047,     0.47147,     0.47247,     0.47347,     0.47447,     0.47548,     0.47648,     0.47748,     0.47848,     0.47948,\n",
      "           0.48048,     0.48148,     0.48248,     0.48348,     0.48448,     0.48549,     0.48649,     0.48749,     0.48849,     0.48949,     0.49049,     0.49149,     0.49249,     0.49349,     0.49449,      0.4955,      0.4965,      0.4975,      0.4985,      0.4995,      0.5005,      0.5015,      0.5025,      0.5035,\n",
      "            0.5045,     0.50551,     0.50651,     0.50751,     0.50851,     0.50951,     0.51051,     0.51151,     0.51251,     0.51351,     0.51451,     0.51552,     0.51652,     0.51752,     0.51852,     0.51952,     0.52052,     0.52152,     0.52252,     0.52352,     0.52452,     0.52553,     0.52653,     0.52753,\n",
      "           0.52853,     0.52953,     0.53053,     0.53153,     0.53253,     0.53353,     0.53453,     0.53554,     0.53654,     0.53754,     0.53854,     0.53954,     0.54054,     0.54154,     0.54254,     0.54354,     0.54454,     0.54555,     0.54655,     0.54755,     0.54855,     0.54955,     0.55055,     0.55155,\n",
      "           0.55255,     0.55355,     0.55455,     0.55556,     0.55656,     0.55756,     0.55856,     0.55956,     0.56056,     0.56156,     0.56256,     0.56356,     0.56456,     0.56557,     0.56657,     0.56757,     0.56857,     0.56957,     0.57057,     0.57157,     0.57257,     0.57357,     0.57457,     0.57558,\n",
      "           0.57658,     0.57758,     0.57858,     0.57958,     0.58058,     0.58158,     0.58258,     0.58358,     0.58458,     0.58559,     0.58659,     0.58759,     0.58859,     0.58959,     0.59059,     0.59159,     0.59259,     0.59359,     0.59459,      0.5956,      0.5966,      0.5976,      0.5986,      0.5996,\n",
      "            0.6006,      0.6016,      0.6026,      0.6036,      0.6046,     0.60561,     0.60661,     0.60761,     0.60861,     0.60961,     0.61061,     0.61161,     0.61261,     0.61361,     0.61461,     0.61562,     0.61662,     0.61762,     0.61862,     0.61962,     0.62062,     0.62162,     0.62262,     0.62362,\n",
      "           0.62462,     0.62563,     0.62663,     0.62763,     0.62863,     0.62963,     0.63063,     0.63163,     0.63263,     0.63363,     0.63463,     0.63564,     0.63664,     0.63764,     0.63864,     0.63964,     0.64064,     0.64164,     0.64264,     0.64364,     0.64464,     0.64565,     0.64665,     0.64765,\n",
      "           0.64865,     0.64965,     0.65065,     0.65165,     0.65265,     0.65365,     0.65465,     0.65566,     0.65666,     0.65766,     0.65866,     0.65966,     0.66066,     0.66166,     0.66266,     0.66366,     0.66466,     0.66567,     0.66667,     0.66767,     0.66867,     0.66967,     0.67067,     0.67167,\n",
      "           0.67267,     0.67367,     0.67467,     0.67568,     0.67668,     0.67768,     0.67868,     0.67968,     0.68068,     0.68168,     0.68268,     0.68368,     0.68468,     0.68569,     0.68669,     0.68769,     0.68869,     0.68969,     0.69069,     0.69169,     0.69269,     0.69369,     0.69469,      0.6957,\n",
      "            0.6967,      0.6977,      0.6987,      0.6997,      0.7007,      0.7017,      0.7027,      0.7037,      0.7047,     0.70571,     0.70671,     0.70771,     0.70871,     0.70971,     0.71071,     0.71171,     0.71271,     0.71371,     0.71471,     0.71572,     0.71672,     0.71772,     0.71872,     0.71972,\n",
      "           0.72072,     0.72172,     0.72272,     0.72372,     0.72472,     0.72573,     0.72673,     0.72773,     0.72873,     0.72973,     0.73073,     0.73173,     0.73273,     0.73373,     0.73473,     0.73574,     0.73674,     0.73774,     0.73874,     0.73974,     0.74074,     0.74174,     0.74274,     0.74374,\n",
      "           0.74474,     0.74575,     0.74675,     0.74775,     0.74875,     0.74975,     0.75075,     0.75175,     0.75275,     0.75375,     0.75475,     0.75576,     0.75676,     0.75776,     0.75876,     0.75976,     0.76076,     0.76176,     0.76276,     0.76376,     0.76476,     0.76577,     0.76677,     0.76777,\n",
      "           0.76877,     0.76977,     0.77077,     0.77177,     0.77277,     0.77377,     0.77477,     0.77578,     0.77678,     0.77778,     0.77878,     0.77978,     0.78078,     0.78178,     0.78278,     0.78378,     0.78478,     0.78579,     0.78679,     0.78779,     0.78879,     0.78979,     0.79079,     0.79179,\n",
      "           0.79279,     0.79379,     0.79479,      0.7958,      0.7968,      0.7978,      0.7988,      0.7998,      0.8008,      0.8018,      0.8028,      0.8038,      0.8048,     0.80581,     0.80681,     0.80781,     0.80881,     0.80981,     0.81081,     0.81181,     0.81281,     0.81381,     0.81481,     0.81582,\n",
      "           0.81682,     0.81782,     0.81882,     0.81982,     0.82082,     0.82182,     0.82282,     0.82382,     0.82482,     0.82583,     0.82683,     0.82783,     0.82883,     0.82983,     0.83083,     0.83183,     0.83283,     0.83383,     0.83483,     0.83584,     0.83684,     0.83784,     0.83884,     0.83984,\n",
      "           0.84084,     0.84184,     0.84284,     0.84384,     0.84484,     0.84585,     0.84685,     0.84785,     0.84885,     0.84985,     0.85085,     0.85185,     0.85285,     0.85385,     0.85485,     0.85586,     0.85686,     0.85786,     0.85886,     0.85986,     0.86086,     0.86186,     0.86286,     0.86386,\n",
      "           0.86486,     0.86587,     0.86687,     0.86787,     0.86887,     0.86987,     0.87087,     0.87187,     0.87287,     0.87387,     0.87487,     0.87588,     0.87688,     0.87788,     0.87888,     0.87988,     0.88088,     0.88188,     0.88288,     0.88388,     0.88488,     0.88589,     0.88689,     0.88789,\n",
      "           0.88889,     0.88989,     0.89089,     0.89189,     0.89289,     0.89389,     0.89489,      0.8959,      0.8969,      0.8979,      0.8989,      0.8999,      0.9009,      0.9019,      0.9029,      0.9039,      0.9049,     0.90591,     0.90691,     0.90791,     0.90891,     0.90991,     0.91091,     0.91191,\n",
      "           0.91291,     0.91391,     0.91491,     0.91592,     0.91692,     0.91792,     0.91892,     0.91992,     0.92092,     0.92192,     0.92292,     0.92392,     0.92492,     0.92593,     0.92693,     0.92793,     0.92893,     0.92993,     0.93093,     0.93193,     0.93293,     0.93393,     0.93493,     0.93594,\n",
      "           0.93694,     0.93794,     0.93894,     0.93994,     0.94094,     0.94194,     0.94294,     0.94394,     0.94494,     0.94595,     0.94695,     0.94795,     0.94895,     0.94995,     0.95095,     0.95195,     0.95295,     0.95395,     0.95495,     0.95596,     0.95696,     0.95796,     0.95896,     0.95996,\n",
      "           0.96096,     0.96196,     0.96296,     0.96396,     0.96496,     0.96597,     0.96697,     0.96797,     0.96897,     0.96997,     0.97097,     0.97197,     0.97297,     0.97397,     0.97497,     0.97598,     0.97698,     0.97798,     0.97898,     0.97998,     0.98098,     0.98198,     0.98298,     0.98398,\n",
      "           0.98498,     0.98599,     0.98699,     0.98799,     0.98899,     0.98999,     0.99099,     0.99199,     0.99299,     0.99399,     0.99499,       0.996,       0.997,       0.998,       0.999,           1]), array([[    0.19554,      0.1956,     0.25068,     0.29019,     0.31515,     0.33602,      0.3546,     0.37014,     0.38505,     0.39677,     0.40889,     0.41919,      0.4296,     0.43718,     0.44638,     0.45528,     0.46516,     0.47278,     0.48242,     0.48861,     0.49562,      0.5016,      0.5081,\n",
      "             0.5122,     0.51798,     0.52324,     0.52877,     0.53152,     0.53651,     0.54224,     0.54726,     0.55188,     0.55724,     0.56078,     0.56542,     0.56849,     0.57284,     0.57732,     0.57982,     0.58294,     0.58598,     0.58881,     0.59202,     0.59462,     0.59811,     0.60123,\n",
      "            0.60387,     0.60627,      0.6079,      0.6101,     0.61376,     0.61754,     0.61939,     0.62264,     0.62716,     0.62997,     0.63213,     0.63415,     0.63753,     0.63874,     0.64179,     0.64505,     0.64808,     0.64981,     0.65109,     0.65334,     0.65611,     0.65742,     0.65881,\n",
      "            0.66286,     0.66529,      0.6668,     0.66821,     0.67032,     0.67286,     0.67467,     0.67626,     0.67721,     0.67897,     0.68052,     0.68249,     0.68363,     0.68531,     0.68713,     0.68895,     0.69157,     0.69354,     0.69447,      0.6977,     0.70001,     0.70183,     0.70263,\n",
      "            0.70427,     0.70656,     0.70753,     0.71011,      0.7113,     0.71249,     0.71347,     0.71474,     0.71502,     0.71668,     0.71822,     0.72094,     0.72203,     0.72456,     0.72613,     0.72693,     0.72825,      0.7292,     0.72961,      0.7315,     0.73366,     0.73444,     0.73451,\n",
      "            0.73558,     0.73565,     0.73717,     0.73822,     0.73853,     0.73956,     0.74084,       0.742,     0.74307,     0.74371,     0.74522,     0.74476,     0.74632,     0.74788,     0.74883,     0.75023,     0.74993,     0.75051,     0.75149,     0.75324,     0.75409,     0.75346,     0.75394,\n",
      "            0.75542,      0.7561,     0.75721,     0.75865,     0.76003,     0.76105,     0.76221,     0.76346,     0.76437,     0.76555,     0.76629,     0.76692,     0.76743,     0.76882,     0.76974,     0.77064,      0.7711,     0.77147,     0.77255,     0.77329,     0.77408,     0.77398,     0.77411,\n",
      "            0.77492,     0.77585,      0.7758,     0.77708,     0.77792,     0.77868,     0.77977,     0.78052,     0.78082,     0.78199,     0.78228,     0.78314,     0.78345,     0.78384,     0.78492,     0.78543,     0.78573,      0.7864,     0.78769,     0.78731,     0.78815,      0.7889,     0.78881,\n",
      "            0.78893,     0.78987,     0.79032,     0.79075,     0.79109,     0.79165,     0.79085,     0.79131,     0.79153,     0.79343,     0.79406,     0.79452,     0.79513,     0.79524,     0.79568,     0.79641,     0.79704,     0.79807,     0.79802,     0.79838,     0.79846,     0.79898,     0.79927,\n",
      "            0.80003,     0.80008,     0.80029,     0.80076,     0.80062,     0.80162,     0.80112,     0.80095,     0.80136,     0.80142,     0.80219,     0.80258,     0.80289,     0.80328,     0.80504,     0.80566,     0.80604,     0.80627,     0.80723,       0.808,     0.80817,     0.80877,     0.80963,\n",
      "             0.8099,     0.81006,     0.81032,     0.81072,      0.8114,     0.81064,     0.81106,     0.81101,     0.81094,     0.81119,     0.81138,     0.81155,     0.81124,     0.81173,     0.81315,     0.81327,     0.81422,     0.81445,      0.8149,     0.81538,     0.81632,     0.81656,     0.81662,\n",
      "             0.8169,      0.8171,     0.81691,      0.8176,     0.81776,     0.81788,     0.81808,     0.81812,     0.81848,     0.81781,     0.81783,     0.81825,     0.81888,      0.8197,     0.82033,      0.8207,     0.82054,     0.82097,     0.82042,     0.82068,     0.81975,     0.82127,     0.82196,\n",
      "            0.82253,     0.82257,     0.82275,     0.82332,     0.82394,     0.82514,     0.82597,     0.82528,     0.82509,     0.82496,     0.82481,     0.82501,     0.82541,     0.82564,     0.82583,     0.82601,     0.82625,     0.82731,     0.82785,     0.82828,     0.82867,     0.82838,     0.82856,\n",
      "            0.82863,     0.82949,     0.82914,      0.8292,     0.82932,     0.82943,     0.82978,     0.83011,     0.82969,     0.83009,     0.83036,     0.83092,     0.83067,      0.8308,     0.83093,     0.83174,     0.83207,     0.83233,     0.83253,     0.83268,     0.83288,     0.83333,     0.83361,\n",
      "            0.83422,     0.83404,     0.83357,     0.83321,     0.83328,     0.83349,     0.83355,     0.83361,     0.83367,     0.83373,     0.83379,     0.83384,     0.83348,     0.83323,     0.83307,      0.8332,     0.83334,     0.83293,     0.83357,     0.83388,     0.83337,      0.8331,     0.83286,\n",
      "            0.83265,     0.83245,     0.83293,     0.83306,     0.83317,       0.833,     0.83283,      0.8327,     0.83263,     0.83292,     0.83321,     0.83297,     0.83272,     0.83259,     0.83282,     0.83258,      0.8328,     0.83245,       0.832,     0.83162,     0.83136,     0.83117,     0.83158,\n",
      "            0.83174,     0.83208,     0.83252,     0.83294,     0.83277,     0.83261,     0.83244,     0.83147,     0.83249,     0.83179,     0.83143,      0.8315,     0.83212,     0.83228,     0.83236,     0.83196,      0.8321,     0.83224,     0.83262,     0.83263,     0.83287,     0.83265,     0.83243,\n",
      "            0.83202,      0.8324,     0.83211,     0.83217,     0.83234,      0.8325,     0.83265,      0.8328,     0.83239,     0.83289,     0.83377,     0.83359,     0.83338,     0.83348,     0.83408,     0.83426,     0.83462,     0.83489,     0.83475,     0.83463,     0.83438,     0.83468,     0.83459,\n",
      "            0.83467,     0.83475,     0.83483,     0.83491,     0.83522,     0.83552,     0.83573,     0.83584,     0.83594,     0.83605,     0.83568,     0.83578,     0.83545,     0.83427,     0.83418,     0.83409,       0.834,      0.8339,     0.83381,     0.83419,     0.83428,     0.83437,     0.83446,\n",
      "            0.83455,     0.83417,     0.83359,     0.83377,     0.83371,     0.83335,     0.83345,     0.83357,     0.83369,     0.83373,      0.8339,      0.8335,      0.8332,     0.83293,     0.83265,     0.83238,     0.83215,     0.83194,     0.83184,     0.83203,     0.83221,     0.83238,     0.83255,\n",
      "            0.83247,     0.83238,     0.83229,      0.8322,     0.83211,     0.83202,     0.83218,     0.83191,     0.83217,     0.83232,     0.83241,     0.83251,     0.83261,     0.83271,     0.83282,     0.83293,     0.83299,      0.8328,     0.83261,     0.83226,     0.83131,     0.83086,     0.83096,\n",
      "            0.83106,     0.83117,     0.83077,     0.83087,     0.83104,     0.83009,     0.83036,     0.83077,     0.83089,       0.831,     0.83111,     0.83115,     0.83077,     0.82982,     0.82944,      0.8288,     0.82732,     0.82691,     0.82675,     0.82709,     0.82724,      0.8274,     0.82765,\n",
      "            0.82766,     0.82725,     0.82692,     0.82746,     0.82696,     0.82646,      0.8259,     0.82615,     0.82419,     0.82334,     0.82319,     0.82303,     0.82287,     0.82299,     0.82314,     0.82317,     0.82291,     0.82276,     0.82278,     0.82241,     0.82229,     0.82216,     0.82204,\n",
      "            0.82189,      0.8217,     0.82151,     0.82128,       0.821,     0.82077,     0.82061,     0.82045,     0.82029,     0.81981,     0.81918,     0.81928,     0.81938,     0.81949,     0.81938,     0.81911,     0.81851,     0.81851,     0.81862,     0.81874,     0.81863,     0.81835,     0.81848,\n",
      "            0.81808,      0.8184,     0.81829,     0.81818,     0.81807,     0.81795,     0.81761,     0.81768,     0.81783,     0.81796,     0.81807,     0.81757,     0.81566,     0.81572,      0.8158,     0.81589,     0.81597,      0.8157,     0.81501,     0.81514,     0.81555,      0.8153,     0.81468,\n",
      "            0.81466,     0.81471,     0.81456,     0.81441,     0.81425,      0.8136,     0.81396,     0.81358,     0.81258,     0.81204,      0.8117,     0.81104,     0.81088,     0.81072,     0.81057,      0.8101,     0.80949,     0.80816,     0.80821,     0.80834,      0.8076,     0.80698,     0.80698,\n",
      "            0.80681,     0.80664,     0.80647,     0.80532,      0.8051,     0.80482,     0.80454,     0.80469,     0.80488,     0.80384,     0.80233,     0.80121,       0.801,     0.80079,     0.79933,     0.79852,     0.79762,     0.79734,     0.79566,     0.79525,     0.79499,     0.79383,      0.7932,\n",
      "            0.79339,     0.79358,     0.79287,     0.79173,     0.79137,     0.79106,     0.79079,     0.78997,     0.78978,     0.78959,     0.78873,     0.78754,     0.78734,     0.78714,     0.78677,     0.78564,     0.78491,     0.78362,      0.7832,     0.78292,     0.78164,     0.78113,     0.78071,\n",
      "            0.78029,     0.77993,     0.77882,     0.77825,     0.77794,      0.7786,     0.77841,     0.77821,     0.77802,     0.77698,     0.77576,     0.77485,     0.77468,     0.77452,     0.77435,     0.77417,     0.77397,     0.77378,     0.77251,     0.77098,     0.77054,     0.76975,     0.76877,\n",
      "            0.76899,     0.76841,      0.7663,     0.76502,     0.76347,     0.76202,     0.76157,     0.76015,     0.75918,     0.75807,     0.75723,     0.75602,     0.75548,     0.75489,     0.75401,     0.75375,     0.75227,     0.75206,     0.75185,     0.75071,     0.74937,     0.74693,     0.74535,\n",
      "            0.74301,     0.74225,     0.74176,     0.74028,      0.7396,      0.7393,     0.73853,     0.73566,     0.73419,     0.73268,     0.73195,     0.73137,     0.73096,     0.73008,     0.72993,     0.72977,     0.72962,     0.72947,     0.72893,     0.72742,     0.72694,     0.72595,      0.7253,\n",
      "            0.72504,     0.72478,     0.72431,       0.723,     0.72162,     0.72023,     0.71976,     0.71926,     0.71826,     0.71731,     0.71524,     0.71365,     0.71283,     0.71104,        0.71,     0.70979,     0.70958,     0.70732,      0.7062,     0.70497,     0.70381,     0.70403,     0.70295,\n",
      "            0.70191,     0.70194,     0.69969,     0.69821,     0.69642,     0.69524,     0.69277,     0.69313,      0.6917,     0.68905,     0.68707,     0.68661,      0.6862,     0.68517,     0.68411,     0.68262,     0.68132,     0.67985,     0.67877,     0.67897,     0.67899,     0.67672,     0.67583,\n",
      "            0.67357,     0.67192,     0.66867,     0.66836,     0.66663,     0.66563,      0.6636,     0.66302,      0.6625,     0.66172,     0.66107,     0.66062,      0.6603,     0.65998,      0.6573,     0.65597,     0.65369,     0.65303,     0.65016,     0.64871,     0.64833,     0.64785,      0.6472,\n",
      "            0.64604,     0.64426,     0.64379,      0.6424,     0.64085,     0.63808,     0.63685,     0.63473,     0.63423,     0.63377,     0.63308,     0.63243,     0.63117,     0.62822,     0.62612,     0.62479,     0.62376,     0.62288,     0.61997,     0.61933,      0.6189,     0.61823,     0.61512,\n",
      "            0.61177,     0.60897,     0.60676,     0.60589,     0.60255,     0.60071,     0.59835,     0.59443,     0.59169,      0.5904,     0.58686,       0.585,     0.58282,     0.58126,     0.57834,     0.57541,     0.57249,      0.5712,      0.5684,     0.56384,     0.56217,     0.56059,     0.55866,\n",
      "            0.55417,     0.55017,     0.54918,      0.5487,     0.54806,     0.54648,     0.54459,     0.54161,     0.53843,     0.53486,      0.5329,     0.52984,     0.52584,     0.52294,     0.52049,     0.51699,     0.51334,     0.50695,     0.50401,     0.50142,     0.49629,     0.49305,     0.49066,\n",
      "            0.48693,     0.48386,     0.47981,     0.47594,     0.47037,     0.46842,     0.46657,     0.46262,      0.4597,     0.45342,       0.452,     0.44875,     0.44681,     0.43973,     0.43628,     0.42586,     0.42015,     0.41734,     0.41439,     0.40624,     0.39738,     0.38956,     0.38226,\n",
      "             0.3731,     0.36724,     0.36283,     0.35565,     0.34873,      0.3362,     0.33468,     0.33196,     0.31782,     0.30885,     0.30014,     0.29071,     0.28054,     0.26485,     0.25513,     0.24699,     0.23514,     0.22698,     0.20925,     0.19699,     0.18833,     0.17624,     0.16555,\n",
      "             0.1568,     0.14893,     0.13369,     0.11629,     0.10355,    0.089448,    0.083426,    0.069325,    0.058188,    0.055417,    0.050921,    0.044694,    0.037454,    0.034868,    0.028798,    0.024109,    0.017687,    0.012728,    0.011804,   0.0094335,   0.0054574,   0.0047133,   0.0043923,\n",
      "          0.0040711,   0.0037498,   0.0034284,    0.002848,   0.0021584,           0,           0,           0,           0,           0,           0,           0,           0,           0,           0,           0,           0,           0,           0,           0,           0,           0,           0,\n",
      "                  0,           0,           0,           0,           0,           0,           0,           0,           0,           0,           0,           0,           0,           0,           0,           0,           0,           0,           0,           0,           0,           0,           0,\n",
      "                  0,           0,           0,           0,           0,           0,           0,           0,           0,           0,           0,           0,           0,           0,           0,           0,           0,           0,           0,           0,           0,           0,           0,\n",
      "                  0,           0,           0,           0,           0,           0,           0,           0,           0,           0,           0]]), 'Confidence', 'F1'], [array([          0,    0.001001,    0.002002,    0.003003,    0.004004,    0.005005,    0.006006,    0.007007,    0.008008,    0.009009,     0.01001,    0.011011,    0.012012,    0.013013,    0.014014,    0.015015,    0.016016,    0.017017,    0.018018,    0.019019,     0.02002,    0.021021,    0.022022,    0.023023,\n",
      "          0.024024,    0.025025,    0.026026,    0.027027,    0.028028,    0.029029,     0.03003,    0.031031,    0.032032,    0.033033,    0.034034,    0.035035,    0.036036,    0.037037,    0.038038,    0.039039,     0.04004,    0.041041,    0.042042,    0.043043,    0.044044,    0.045045,    0.046046,    0.047047,\n",
      "          0.048048,    0.049049,     0.05005,    0.051051,    0.052052,    0.053053,    0.054054,    0.055055,    0.056056,    0.057057,    0.058058,    0.059059,     0.06006,    0.061061,    0.062062,    0.063063,    0.064064,    0.065065,    0.066066,    0.067067,    0.068068,    0.069069,     0.07007,    0.071071,\n",
      "          0.072072,    0.073073,    0.074074,    0.075075,    0.076076,    0.077077,    0.078078,    0.079079,     0.08008,    0.081081,    0.082082,    0.083083,    0.084084,    0.085085,    0.086086,    0.087087,    0.088088,    0.089089,     0.09009,    0.091091,    0.092092,    0.093093,    0.094094,    0.095095,\n",
      "          0.096096,    0.097097,    0.098098,    0.099099,      0.1001,      0.1011,      0.1021,      0.1031,      0.1041,     0.10511,     0.10611,     0.10711,     0.10811,     0.10911,     0.11011,     0.11111,     0.11211,     0.11311,     0.11411,     0.11512,     0.11612,     0.11712,     0.11812,     0.11912,\n",
      "           0.12012,     0.12112,     0.12212,     0.12312,     0.12412,     0.12513,     0.12613,     0.12713,     0.12813,     0.12913,     0.13013,     0.13113,     0.13213,     0.13313,     0.13413,     0.13514,     0.13614,     0.13714,     0.13814,     0.13914,     0.14014,     0.14114,     0.14214,     0.14314,\n",
      "           0.14414,     0.14515,     0.14615,     0.14715,     0.14815,     0.14915,     0.15015,     0.15115,     0.15215,     0.15315,     0.15415,     0.15516,     0.15616,     0.15716,     0.15816,     0.15916,     0.16016,     0.16116,     0.16216,     0.16316,     0.16416,     0.16517,     0.16617,     0.16717,\n",
      "           0.16817,     0.16917,     0.17017,     0.17117,     0.17217,     0.17317,     0.17417,     0.17518,     0.17618,     0.17718,     0.17818,     0.17918,     0.18018,     0.18118,     0.18218,     0.18318,     0.18418,     0.18519,     0.18619,     0.18719,     0.18819,     0.18919,     0.19019,     0.19119,\n",
      "           0.19219,     0.19319,     0.19419,      0.1952,      0.1962,      0.1972,      0.1982,      0.1992,      0.2002,      0.2012,      0.2022,      0.2032,      0.2042,     0.20521,     0.20621,     0.20721,     0.20821,     0.20921,     0.21021,     0.21121,     0.21221,     0.21321,     0.21421,     0.21522,\n",
      "           0.21622,     0.21722,     0.21822,     0.21922,     0.22022,     0.22122,     0.22222,     0.22322,     0.22422,     0.22523,     0.22623,     0.22723,     0.22823,     0.22923,     0.23023,     0.23123,     0.23223,     0.23323,     0.23423,     0.23524,     0.23624,     0.23724,     0.23824,     0.23924,\n",
      "           0.24024,     0.24124,     0.24224,     0.24324,     0.24424,     0.24525,     0.24625,     0.24725,     0.24825,     0.24925,     0.25025,     0.25125,     0.25225,     0.25325,     0.25425,     0.25526,     0.25626,     0.25726,     0.25826,     0.25926,     0.26026,     0.26126,     0.26226,     0.26326,\n",
      "           0.26426,     0.26527,     0.26627,     0.26727,     0.26827,     0.26927,     0.27027,     0.27127,     0.27227,     0.27327,     0.27427,     0.27528,     0.27628,     0.27728,     0.27828,     0.27928,     0.28028,     0.28128,     0.28228,     0.28328,     0.28428,     0.28529,     0.28629,     0.28729,\n",
      "           0.28829,     0.28929,     0.29029,     0.29129,     0.29229,     0.29329,     0.29429,      0.2953,      0.2963,      0.2973,      0.2983,      0.2993,      0.3003,      0.3013,      0.3023,      0.3033,      0.3043,     0.30531,     0.30631,     0.30731,     0.30831,     0.30931,     0.31031,     0.31131,\n",
      "           0.31231,     0.31331,     0.31431,     0.31532,     0.31632,     0.31732,     0.31832,     0.31932,     0.32032,     0.32132,     0.32232,     0.32332,     0.32432,     0.32533,     0.32633,     0.32733,     0.32833,     0.32933,     0.33033,     0.33133,     0.33233,     0.33333,     0.33433,     0.33534,\n",
      "           0.33634,     0.33734,     0.33834,     0.33934,     0.34034,     0.34134,     0.34234,     0.34334,     0.34434,     0.34535,     0.34635,     0.34735,     0.34835,     0.34935,     0.35035,     0.35135,     0.35235,     0.35335,     0.35435,     0.35536,     0.35636,     0.35736,     0.35836,     0.35936,\n",
      "           0.36036,     0.36136,     0.36236,     0.36336,     0.36436,     0.36537,     0.36637,     0.36737,     0.36837,     0.36937,     0.37037,     0.37137,     0.37237,     0.37337,     0.37437,     0.37538,     0.37638,     0.37738,     0.37838,     0.37938,     0.38038,     0.38138,     0.38238,     0.38338,\n",
      "           0.38438,     0.38539,     0.38639,     0.38739,     0.38839,     0.38939,     0.39039,     0.39139,     0.39239,     0.39339,     0.39439,      0.3954,      0.3964,      0.3974,      0.3984,      0.3994,      0.4004,      0.4014,      0.4024,      0.4034,      0.4044,     0.40541,     0.40641,     0.40741,\n",
      "           0.40841,     0.40941,     0.41041,     0.41141,     0.41241,     0.41341,     0.41441,     0.41542,     0.41642,     0.41742,     0.41842,     0.41942,     0.42042,     0.42142,     0.42242,     0.42342,     0.42442,     0.42543,     0.42643,     0.42743,     0.42843,     0.42943,     0.43043,     0.43143,\n",
      "           0.43243,     0.43343,     0.43443,     0.43544,     0.43644,     0.43744,     0.43844,     0.43944,     0.44044,     0.44144,     0.44244,     0.44344,     0.44444,     0.44545,     0.44645,     0.44745,     0.44845,     0.44945,     0.45045,     0.45145,     0.45245,     0.45345,     0.45445,     0.45546,\n",
      "           0.45646,     0.45746,     0.45846,     0.45946,     0.46046,     0.46146,     0.46246,     0.46346,     0.46446,     0.46547,     0.46647,     0.46747,     0.46847,     0.46947,     0.47047,     0.47147,     0.47247,     0.47347,     0.47447,     0.47548,     0.47648,     0.47748,     0.47848,     0.47948,\n",
      "           0.48048,     0.48148,     0.48248,     0.48348,     0.48448,     0.48549,     0.48649,     0.48749,     0.48849,     0.48949,     0.49049,     0.49149,     0.49249,     0.49349,     0.49449,      0.4955,      0.4965,      0.4975,      0.4985,      0.4995,      0.5005,      0.5015,      0.5025,      0.5035,\n",
      "            0.5045,     0.50551,     0.50651,     0.50751,     0.50851,     0.50951,     0.51051,     0.51151,     0.51251,     0.51351,     0.51451,     0.51552,     0.51652,     0.51752,     0.51852,     0.51952,     0.52052,     0.52152,     0.52252,     0.52352,     0.52452,     0.52553,     0.52653,     0.52753,\n",
      "           0.52853,     0.52953,     0.53053,     0.53153,     0.53253,     0.53353,     0.53453,     0.53554,     0.53654,     0.53754,     0.53854,     0.53954,     0.54054,     0.54154,     0.54254,     0.54354,     0.54454,     0.54555,     0.54655,     0.54755,     0.54855,     0.54955,     0.55055,     0.55155,\n",
      "           0.55255,     0.55355,     0.55455,     0.55556,     0.55656,     0.55756,     0.55856,     0.55956,     0.56056,     0.56156,     0.56256,     0.56356,     0.56456,     0.56557,     0.56657,     0.56757,     0.56857,     0.56957,     0.57057,     0.57157,     0.57257,     0.57357,     0.57457,     0.57558,\n",
      "           0.57658,     0.57758,     0.57858,     0.57958,     0.58058,     0.58158,     0.58258,     0.58358,     0.58458,     0.58559,     0.58659,     0.58759,     0.58859,     0.58959,     0.59059,     0.59159,     0.59259,     0.59359,     0.59459,      0.5956,      0.5966,      0.5976,      0.5986,      0.5996,\n",
      "            0.6006,      0.6016,      0.6026,      0.6036,      0.6046,     0.60561,     0.60661,     0.60761,     0.60861,     0.60961,     0.61061,     0.61161,     0.61261,     0.61361,     0.61461,     0.61562,     0.61662,     0.61762,     0.61862,     0.61962,     0.62062,     0.62162,     0.62262,     0.62362,\n",
      "           0.62462,     0.62563,     0.62663,     0.62763,     0.62863,     0.62963,     0.63063,     0.63163,     0.63263,     0.63363,     0.63463,     0.63564,     0.63664,     0.63764,     0.63864,     0.63964,     0.64064,     0.64164,     0.64264,     0.64364,     0.64464,     0.64565,     0.64665,     0.64765,\n",
      "           0.64865,     0.64965,     0.65065,     0.65165,     0.65265,     0.65365,     0.65465,     0.65566,     0.65666,     0.65766,     0.65866,     0.65966,     0.66066,     0.66166,     0.66266,     0.66366,     0.66466,     0.66567,     0.66667,     0.66767,     0.66867,     0.66967,     0.67067,     0.67167,\n",
      "           0.67267,     0.67367,     0.67467,     0.67568,     0.67668,     0.67768,     0.67868,     0.67968,     0.68068,     0.68168,     0.68268,     0.68368,     0.68468,     0.68569,     0.68669,     0.68769,     0.68869,     0.68969,     0.69069,     0.69169,     0.69269,     0.69369,     0.69469,      0.6957,\n",
      "            0.6967,      0.6977,      0.6987,      0.6997,      0.7007,      0.7017,      0.7027,      0.7037,      0.7047,     0.70571,     0.70671,     0.70771,     0.70871,     0.70971,     0.71071,     0.71171,     0.71271,     0.71371,     0.71471,     0.71572,     0.71672,     0.71772,     0.71872,     0.71972,\n",
      "           0.72072,     0.72172,     0.72272,     0.72372,     0.72472,     0.72573,     0.72673,     0.72773,     0.72873,     0.72973,     0.73073,     0.73173,     0.73273,     0.73373,     0.73473,     0.73574,     0.73674,     0.73774,     0.73874,     0.73974,     0.74074,     0.74174,     0.74274,     0.74374,\n",
      "           0.74474,     0.74575,     0.74675,     0.74775,     0.74875,     0.74975,     0.75075,     0.75175,     0.75275,     0.75375,     0.75475,     0.75576,     0.75676,     0.75776,     0.75876,     0.75976,     0.76076,     0.76176,     0.76276,     0.76376,     0.76476,     0.76577,     0.76677,     0.76777,\n",
      "           0.76877,     0.76977,     0.77077,     0.77177,     0.77277,     0.77377,     0.77477,     0.77578,     0.77678,     0.77778,     0.77878,     0.77978,     0.78078,     0.78178,     0.78278,     0.78378,     0.78478,     0.78579,     0.78679,     0.78779,     0.78879,     0.78979,     0.79079,     0.79179,\n",
      "           0.79279,     0.79379,     0.79479,      0.7958,      0.7968,      0.7978,      0.7988,      0.7998,      0.8008,      0.8018,      0.8028,      0.8038,      0.8048,     0.80581,     0.80681,     0.80781,     0.80881,     0.80981,     0.81081,     0.81181,     0.81281,     0.81381,     0.81481,     0.81582,\n",
      "           0.81682,     0.81782,     0.81882,     0.81982,     0.82082,     0.82182,     0.82282,     0.82382,     0.82482,     0.82583,     0.82683,     0.82783,     0.82883,     0.82983,     0.83083,     0.83183,     0.83283,     0.83383,     0.83483,     0.83584,     0.83684,     0.83784,     0.83884,     0.83984,\n",
      "           0.84084,     0.84184,     0.84284,     0.84384,     0.84484,     0.84585,     0.84685,     0.84785,     0.84885,     0.84985,     0.85085,     0.85185,     0.85285,     0.85385,     0.85485,     0.85586,     0.85686,     0.85786,     0.85886,     0.85986,     0.86086,     0.86186,     0.86286,     0.86386,\n",
      "           0.86486,     0.86587,     0.86687,     0.86787,     0.86887,     0.86987,     0.87087,     0.87187,     0.87287,     0.87387,     0.87487,     0.87588,     0.87688,     0.87788,     0.87888,     0.87988,     0.88088,     0.88188,     0.88288,     0.88388,     0.88488,     0.88589,     0.88689,     0.88789,\n",
      "           0.88889,     0.88989,     0.89089,     0.89189,     0.89289,     0.89389,     0.89489,      0.8959,      0.8969,      0.8979,      0.8989,      0.8999,      0.9009,      0.9019,      0.9029,      0.9039,      0.9049,     0.90591,     0.90691,     0.90791,     0.90891,     0.90991,     0.91091,     0.91191,\n",
      "           0.91291,     0.91391,     0.91491,     0.91592,     0.91692,     0.91792,     0.91892,     0.91992,     0.92092,     0.92192,     0.92292,     0.92392,     0.92492,     0.92593,     0.92693,     0.92793,     0.92893,     0.92993,     0.93093,     0.93193,     0.93293,     0.93393,     0.93493,     0.93594,\n",
      "           0.93694,     0.93794,     0.93894,     0.93994,     0.94094,     0.94194,     0.94294,     0.94394,     0.94494,     0.94595,     0.94695,     0.94795,     0.94895,     0.94995,     0.95095,     0.95195,     0.95295,     0.95395,     0.95495,     0.95596,     0.95696,     0.95796,     0.95896,     0.95996,\n",
      "           0.96096,     0.96196,     0.96296,     0.96396,     0.96496,     0.96597,     0.96697,     0.96797,     0.96897,     0.96997,     0.97097,     0.97197,     0.97297,     0.97397,     0.97497,     0.97598,     0.97698,     0.97798,     0.97898,     0.97998,     0.98098,     0.98198,     0.98298,     0.98398,\n",
      "           0.98498,     0.98599,     0.98699,     0.98799,     0.98899,     0.98999,     0.99099,     0.99199,     0.99299,     0.99399,     0.99499,       0.996,       0.997,       0.998,       0.999,           1]), array([[    0.10964,     0.10968,     0.14558,     0.17299,     0.19118,      0.2068,     0.22111,     0.23344,     0.24543,      0.2551,     0.26521,      0.2741,     0.28315,     0.29004,      0.2983,     0.30639,     0.31563,     0.32268,     0.33173,     0.33773,     0.34447,     0.35027,     0.35665,\n",
      "             0.3607,     0.36646,     0.37174,     0.37751,     0.38047,      0.3856,     0.39155,     0.39698,     0.40204,     0.40775,     0.41155,     0.41656,     0.41991,     0.42467,     0.42961,      0.4324,     0.43586,      0.4397,     0.44311,     0.44675,     0.44994,     0.45394,     0.45754,\n",
      "            0.46062,     0.46341,     0.46555,     0.46814,     0.47246,     0.47696,     0.47967,     0.48358,     0.48905,     0.49274,      0.4954,     0.49842,     0.50262,      0.5044,     0.50821,     0.51261,     0.51644,     0.51894,     0.52058,     0.52406,     0.52764,     0.52934,     0.53113,\n",
      "            0.53643,     0.53961,     0.54183,     0.54412,     0.54726,     0.55065,     0.55377,     0.55591,      0.5579,      0.5603,     0.56276,     0.56546,     0.56703,     0.56935,     0.57223,     0.57476,      0.5788,     0.58155,     0.58287,     0.58743,     0.59071,     0.59338,     0.59485,\n",
      "            0.59721,     0.60093,     0.60232,     0.60608,     0.60781,     0.60956,     0.61098,     0.61327,     0.61412,     0.61658,     0.61886,     0.62291,     0.62498,     0.62878,     0.63116,     0.63282,     0.63482,     0.63627,     0.63736,     0.64025,     0.64356,     0.64524,     0.64583,\n",
      "            0.64798,     0.64902,     0.65192,     0.65406,     0.65505,     0.65717,     0.65919,     0.66104,     0.66324,     0.66427,     0.66668,     0.66676,     0.66948,       0.672,     0.67354,      0.6758,     0.67583,     0.67707,     0.67893,     0.68179,      0.6832,     0.68304,     0.68405,\n",
      "             0.6865,     0.68873,     0.69115,     0.69355,     0.69587,     0.69816,     0.70011,     0.70223,     0.70377,     0.70636,     0.70763,     0.70869,     0.70958,     0.71233,     0.71414,      0.7157,     0.71649,     0.71712,     0.71899,     0.72027,     0.72164,     0.72229,     0.72296,\n",
      "              0.725,     0.72663,     0.72718,     0.72944,     0.73119,     0.73291,     0.73549,     0.73684,     0.73737,     0.73946,     0.74064,     0.74218,     0.74342,     0.74411,     0.74606,     0.74767,      0.7482,     0.74943,     0.75187,     0.75178,      0.7533,     0.75468,     0.75501,\n",
      "            0.75543,     0.75714,     0.75797,     0.75877,     0.75939,     0.76044,     0.76039,     0.76193,     0.76299,     0.76661,     0.76777,     0.76864,     0.76979,      0.7701,     0.77154,     0.77292,     0.77411,     0.77605,     0.77671,      0.7774,     0.77829,     0.77929,     0.78059,\n",
      "            0.78204,     0.78278,      0.7833,      0.7842,     0.78471,     0.78663,     0.78674,     0.78688,     0.78786,     0.78858,     0.79007,     0.79083,     0.79142,     0.79218,     0.79562,     0.79682,     0.79756,     0.79801,     0.79991,     0.80142,     0.80175,     0.80293,     0.80463,\n",
      "            0.80599,      0.8063,     0.80682,      0.8076,      0.8091,      0.8091,     0.80994,     0.81181,     0.81304,     0.81354,     0.81392,     0.81428,     0.81418,     0.81548,     0.81834,     0.82008,     0.82225,     0.82271,     0.82364,     0.82463,     0.82655,     0.82703,     0.82768,\n",
      "            0.82861,     0.82903,     0.82953,     0.83094,     0.83127,     0.83153,     0.83194,     0.83241,     0.83366,     0.83356,     0.83412,     0.83589,     0.83721,     0.83892,     0.84025,     0.84102,     0.84161,     0.84268,     0.84253,     0.84389,     0.84366,     0.84688,     0.84834,\n",
      "            0.84956,     0.85031,     0.85098,     0.85221,     0.85353,     0.85612,     0.85791,     0.85774,     0.85795,     0.85903,      0.8593,     0.85974,     0.86059,     0.86109,     0.86151,     0.86189,     0.86243,     0.86574,     0.86691,     0.86787,     0.86901,     0.86909,     0.86948,\n",
      "            0.87065,     0.87278,      0.8727,     0.87292,     0.87318,     0.87343,     0.87421,     0.87493,       0.875,     0.87593,     0.87653,     0.87777,     0.87825,     0.87854,     0.87883,     0.88065,     0.88138,     0.88198,     0.88243,     0.88276,     0.88321,     0.88423,     0.88485,\n",
      "            0.88623,     0.88689,     0.88699,     0.88692,     0.88729,     0.88775,     0.88789,     0.88802,     0.88816,     0.88829,     0.88843,     0.88856,     0.89003,     0.88998,     0.89001,     0.89032,     0.89062,     0.89077,     0.89224,     0.89321,     0.89311,     0.89306,     0.89301,\n",
      "            0.89297,     0.89295,     0.89405,     0.89436,     0.89463,      0.8946,     0.89457,     0.89462,     0.89556,     0.89623,     0.89701,     0.89696,     0.89691,      0.8977,     0.89822,     0.89848,      0.8993,     0.89926,     0.89917,      0.8991,     0.89905,     0.89999,     0.90096,\n",
      "            0.90135,     0.90214,     0.90318,      0.9042,     0.90417,     0.90414,     0.90411,     0.90394,     0.90656,     0.90729,     0.90723,     0.90769,     0.90916,     0.90955,     0.90989,     0.90995,     0.91029,     0.91062,     0.91161,     0.91275,     0.91334,     0.91331,     0.91327,\n",
      "            0.91367,     0.91497,     0.91493,     0.91523,     0.91564,     0.91602,     0.91638,     0.91674,     0.91696,     0.91818,     0.92031,     0.92033,      0.9203,     0.92083,     0.92229,     0.92273,     0.92362,      0.9258,     0.92639,     0.92665,     0.92675,     0.92748,      0.9285,\n",
      "             0.9287,      0.9289,     0.92909,     0.92929,     0.93006,     0.93081,     0.93134,      0.9316,     0.93186,     0.93212,     0.93218,     0.93311,     0.93306,     0.93291,      0.9329,     0.93289,     0.93288,     0.93287,     0.93285,     0.93385,     0.93407,     0.93429,     0.93451,\n",
      "            0.93474,     0.93473,     0.93492,     0.93537,      0.9356,     0.93555,     0.93585,     0.93615,     0.93646,     0.93785,     0.93841,     0.93836,     0.93832,     0.93829,     0.93826,     0.93823,      0.9382,     0.93817,     0.93829,     0.93877,     0.93925,     0.93967,      0.9401,\n",
      "            0.94012,     0.94011,      0.9401,     0.94008,     0.94007,     0.94006,     0.94103,     0.94111,      0.9418,     0.94217,     0.94241,     0.94266,     0.94291,     0.94318,     0.94346,     0.94374,     0.94397,     0.94395,     0.94393,     0.94389,     0.94379,     0.94377,     0.94404,\n",
      "            0.94431,     0.94458,     0.94469,     0.94517,     0.94568,     0.94586,     0.94656,     0.94764,     0.94794,     0.94823,     0.94852,     0.94959,     0.95152,     0.95143,     0.95139,     0.95133,     0.95119,     0.95142,     0.95242,      0.9533,     0.95371,     0.95413,      0.9548,\n",
      "            0.95523,     0.95519,     0.95516,     0.95723,     0.95719,     0.95715,      0.9573,     0.95814,     0.95798,     0.95791,      0.9579,     0.95789,     0.95787,     0.95824,     0.95865,     0.95893,     0.95891,     0.95907,     0.95993,      0.9599,     0.95989,     0.95988,     0.95987,\n",
      "            0.95986,     0.95985,     0.95983,     0.95981,     0.95979,     0.95977,     0.95976,     0.95975,     0.95973,     0.95969,     0.95974,     0.96003,     0.96031,      0.9606,     0.96071,     0.96069,     0.96064,     0.96092,     0.96125,     0.96158,      0.9617,     0.96168,     0.96274,\n",
      "            0.96271,      0.9638,     0.96379,     0.96378,     0.96377,     0.96377,     0.96374,     0.96476,     0.96517,     0.96555,     0.96591,     0.96695,     0.96682,     0.96705,     0.96729,     0.96753,     0.96776,     0.96791,     0.96786,     0.96858,     0.96972,     0.97006,     0.97044,\n",
      "            0.97112,     0.97222,     0.97221,      0.9722,     0.97219,     0.97216,     0.97321,     0.97326,     0.97321,     0.97318,     0.97316,     0.97313,     0.97312,     0.97311,      0.9731,     0.97308,     0.97416,     0.97409,     0.97467,     0.97523,      0.9752,     0.97516,      0.9763,\n",
      "            0.97629,     0.97628,     0.97628,     0.97622,     0.97735,     0.97734,     0.97733,     0.97784,     0.97838,     0.97845,     0.97838,     0.97833,     0.97832,     0.97831,     0.97825,     0.97821,     0.97817,     0.97816,     0.97809,     0.97807,     0.97806,       0.978,     0.97842,\n",
      "              0.979,     0.98155,     0.98152,     0.98148,     0.98146,     0.98145,     0.98144,     0.98141,      0.9814,      0.9814,     0.98136,     0.98132,     0.98131,      0.9813,     0.98129,     0.98124,     0.98122,     0.98117,     0.98115,     0.98114,     0.98109,     0.98107,     0.98105,\n",
      "            0.98104,     0.98102,     0.98098,     0.98096,     0.98094,     0.98344,     0.98343,     0.98343,     0.98342,     0.98338,     0.98334,     0.98331,      0.9833,      0.9833,     0.98329,     0.98329,     0.98328,     0.98327,     0.98323,     0.98318,     0.98316,     0.98313,     0.98337,\n",
      "            0.98409,     0.98435,     0.98428,     0.98424,     0.98419,     0.98414,     0.98413,     0.98408,     0.98405,     0.98401,     0.98398,     0.98525,     0.98523,     0.98522,     0.98519,     0.98518,     0.98513,     0.98513,     0.98512,     0.98508,     0.98504,     0.98497,     0.98492,\n",
      "            0.98484,     0.98617,     0.98615,     0.98611,     0.98609,     0.98608,     0.98606,     0.98597,     0.98593,     0.98588,     0.98725,     0.98723,     0.98722,      0.9872,     0.98719,     0.98719,     0.98718,     0.98718,     0.98716,     0.98712,     0.98711,     0.98708,     0.98706,\n",
      "            0.98706,     0.98705,     0.98704,     0.98842,     0.98839,     0.98835,     0.98834,     0.98833,      0.9883,     0.98828,     0.98822,     0.98818,     0.98816,     0.98812,     0.98809,     0.98809,     0.98808,     0.98802,     0.98876,     0.98944,     0.98941,     0.99109,     0.99239,\n",
      "            0.99237,     0.99386,     0.99385,     0.99383,     0.99381,     0.99379,     0.99378,     0.99526,      0.9953,     0.99527,     0.99525,     0.99524,     0.99524,     0.99523,     0.99522,      0.9952,     0.99519,     0.99517,     0.99518,     0.99602,     0.99677,     0.99675,     0.99675,\n",
      "            0.99673,     0.99672,     0.99669,     0.99669,     0.99668,     0.99667,     0.99665,     0.99665,     0.99665,     0.99664,     0.99664,     0.99663,     0.99663,     0.99663,     0.99661,      0.9966,     0.99658,     0.99828,     0.99827,     0.99827,     0.99826,     0.99826,     0.99826,\n",
      "            0.99826,     0.99825,     0.99825,     0.99824,     0.99823,     0.99822,     0.99822,     0.99821,     0.99821,     0.99821,      0.9982,      0.9982,     0.99819,     0.99818,     0.99817,     0.99817,     0.99816,     0.99816,     0.99815,     0.99814,     0.99814,     0.99814,     0.99813,\n",
      "            0.99811,      0.9981,     0.99809,     0.99808,     0.99807,     0.99806,     0.99805,     0.99803,     0.99802,     0.99801,       0.998,     0.99799,     0.99798,     0.99797,     0.99795,     0.99794,     0.99792,     0.99792,      0.9979,     0.99788,     0.99787,     0.99786,     0.99785,\n",
      "            0.99783,     0.99781,      0.9978,      0.9978,      0.9978,     0.99779,     0.99778,     0.99776,     0.99774,     0.99772,     0.99771,     0.99769,     0.99767,     0.99765,     0.99763,     0.99761,     0.99759,     0.99755,     0.99753,     0.99751,     0.99748,     0.99746,     0.99744,\n",
      "            0.99742,     0.99739,     0.99736,     0.99734,      0.9973,     0.99728,     0.99727,     0.99724,     0.99721,     0.99716,     0.99715,     0.99713,     0.99711,     0.99705,     0.99702,     0.99693,     0.99687,     0.99685,     0.99682,     0.99674,     0.99665,     0.99656,     0.99648,\n",
      "            0.99638,     0.99631,     0.99625,     0.99616,     0.99607,     0.99589,     0.99587,     0.99583,      0.9956,     0.99545,      0.9953,           1,           1,           1,           1,           1,           1,           1,           1,           1,           1,           1,           1,\n",
      "                  1,           1,           1,           1,           1,           1,           1,           1,           1,           1,           1,           1,           1,           1,           1,           1,           1,           1,           1,           1,           1,           1,           1,\n",
      "                  1,           1,           1,           1,           1,           1,           1,           1,           1,           1,           1,           1,           1,           1,           1,           1,           1,           1,           1,           1,           1,           1,           1,\n",
      "                  1,           1,           1,           1,           1,           1,           1,           1,           1,           1,           1,           1,           1,           1,           1,           1,           1,           1,           1,           1,           1,           1,           1,\n",
      "                  1,           1,           1,           1,           1,           1,           1,           1,           1,           1,           1,           1,           1,           1,           1,           1,           1,           1,           1,           1,           1,           1,           1,\n",
      "                  1,           1,           1,           1,           1,           1,           1,           1,           1,           1,           1]]), 'Confidence', 'Precision'], [array([          0,    0.001001,    0.002002,    0.003003,    0.004004,    0.005005,    0.006006,    0.007007,    0.008008,    0.009009,     0.01001,    0.011011,    0.012012,    0.013013,    0.014014,    0.015015,    0.016016,    0.017017,    0.018018,    0.019019,     0.02002,    0.021021,    0.022022,    0.023023,\n",
      "          0.024024,    0.025025,    0.026026,    0.027027,    0.028028,    0.029029,     0.03003,    0.031031,    0.032032,    0.033033,    0.034034,    0.035035,    0.036036,    0.037037,    0.038038,    0.039039,     0.04004,    0.041041,    0.042042,    0.043043,    0.044044,    0.045045,    0.046046,    0.047047,\n",
      "          0.048048,    0.049049,     0.05005,    0.051051,    0.052052,    0.053053,    0.054054,    0.055055,    0.056056,    0.057057,    0.058058,    0.059059,     0.06006,    0.061061,    0.062062,    0.063063,    0.064064,    0.065065,    0.066066,    0.067067,    0.068068,    0.069069,     0.07007,    0.071071,\n",
      "          0.072072,    0.073073,    0.074074,    0.075075,    0.076076,    0.077077,    0.078078,    0.079079,     0.08008,    0.081081,    0.082082,    0.083083,    0.084084,    0.085085,    0.086086,    0.087087,    0.088088,    0.089089,     0.09009,    0.091091,    0.092092,    0.093093,    0.094094,    0.095095,\n",
      "          0.096096,    0.097097,    0.098098,    0.099099,      0.1001,      0.1011,      0.1021,      0.1031,      0.1041,     0.10511,     0.10611,     0.10711,     0.10811,     0.10911,     0.11011,     0.11111,     0.11211,     0.11311,     0.11411,     0.11512,     0.11612,     0.11712,     0.11812,     0.11912,\n",
      "           0.12012,     0.12112,     0.12212,     0.12312,     0.12412,     0.12513,     0.12613,     0.12713,     0.12813,     0.12913,     0.13013,     0.13113,     0.13213,     0.13313,     0.13413,     0.13514,     0.13614,     0.13714,     0.13814,     0.13914,     0.14014,     0.14114,     0.14214,     0.14314,\n",
      "           0.14414,     0.14515,     0.14615,     0.14715,     0.14815,     0.14915,     0.15015,     0.15115,     0.15215,     0.15315,     0.15415,     0.15516,     0.15616,     0.15716,     0.15816,     0.15916,     0.16016,     0.16116,     0.16216,     0.16316,     0.16416,     0.16517,     0.16617,     0.16717,\n",
      "           0.16817,     0.16917,     0.17017,     0.17117,     0.17217,     0.17317,     0.17417,     0.17518,     0.17618,     0.17718,     0.17818,     0.17918,     0.18018,     0.18118,     0.18218,     0.18318,     0.18418,     0.18519,     0.18619,     0.18719,     0.18819,     0.18919,     0.19019,     0.19119,\n",
      "           0.19219,     0.19319,     0.19419,      0.1952,      0.1962,      0.1972,      0.1982,      0.1992,      0.2002,      0.2012,      0.2022,      0.2032,      0.2042,     0.20521,     0.20621,     0.20721,     0.20821,     0.20921,     0.21021,     0.21121,     0.21221,     0.21321,     0.21421,     0.21522,\n",
      "           0.21622,     0.21722,     0.21822,     0.21922,     0.22022,     0.22122,     0.22222,     0.22322,     0.22422,     0.22523,     0.22623,     0.22723,     0.22823,     0.22923,     0.23023,     0.23123,     0.23223,     0.23323,     0.23423,     0.23524,     0.23624,     0.23724,     0.23824,     0.23924,\n",
      "           0.24024,     0.24124,     0.24224,     0.24324,     0.24424,     0.24525,     0.24625,     0.24725,     0.24825,     0.24925,     0.25025,     0.25125,     0.25225,     0.25325,     0.25425,     0.25526,     0.25626,     0.25726,     0.25826,     0.25926,     0.26026,     0.26126,     0.26226,     0.26326,\n",
      "           0.26426,     0.26527,     0.26627,     0.26727,     0.26827,     0.26927,     0.27027,     0.27127,     0.27227,     0.27327,     0.27427,     0.27528,     0.27628,     0.27728,     0.27828,     0.27928,     0.28028,     0.28128,     0.28228,     0.28328,     0.28428,     0.28529,     0.28629,     0.28729,\n",
      "           0.28829,     0.28929,     0.29029,     0.29129,     0.29229,     0.29329,     0.29429,      0.2953,      0.2963,      0.2973,      0.2983,      0.2993,      0.3003,      0.3013,      0.3023,      0.3033,      0.3043,     0.30531,     0.30631,     0.30731,     0.30831,     0.30931,     0.31031,     0.31131,\n",
      "           0.31231,     0.31331,     0.31431,     0.31532,     0.31632,     0.31732,     0.31832,     0.31932,     0.32032,     0.32132,     0.32232,     0.32332,     0.32432,     0.32533,     0.32633,     0.32733,     0.32833,     0.32933,     0.33033,     0.33133,     0.33233,     0.33333,     0.33433,     0.33534,\n",
      "           0.33634,     0.33734,     0.33834,     0.33934,     0.34034,     0.34134,     0.34234,     0.34334,     0.34434,     0.34535,     0.34635,     0.34735,     0.34835,     0.34935,     0.35035,     0.35135,     0.35235,     0.35335,     0.35435,     0.35536,     0.35636,     0.35736,     0.35836,     0.35936,\n",
      "           0.36036,     0.36136,     0.36236,     0.36336,     0.36436,     0.36537,     0.36637,     0.36737,     0.36837,     0.36937,     0.37037,     0.37137,     0.37237,     0.37337,     0.37437,     0.37538,     0.37638,     0.37738,     0.37838,     0.37938,     0.38038,     0.38138,     0.38238,     0.38338,\n",
      "           0.38438,     0.38539,     0.38639,     0.38739,     0.38839,     0.38939,     0.39039,     0.39139,     0.39239,     0.39339,     0.39439,      0.3954,      0.3964,      0.3974,      0.3984,      0.3994,      0.4004,      0.4014,      0.4024,      0.4034,      0.4044,     0.40541,     0.40641,     0.40741,\n",
      "           0.40841,     0.40941,     0.41041,     0.41141,     0.41241,     0.41341,     0.41441,     0.41542,     0.41642,     0.41742,     0.41842,     0.41942,     0.42042,     0.42142,     0.42242,     0.42342,     0.42442,     0.42543,     0.42643,     0.42743,     0.42843,     0.42943,     0.43043,     0.43143,\n",
      "           0.43243,     0.43343,     0.43443,     0.43544,     0.43644,     0.43744,     0.43844,     0.43944,     0.44044,     0.44144,     0.44244,     0.44344,     0.44444,     0.44545,     0.44645,     0.44745,     0.44845,     0.44945,     0.45045,     0.45145,     0.45245,     0.45345,     0.45445,     0.45546,\n",
      "           0.45646,     0.45746,     0.45846,     0.45946,     0.46046,     0.46146,     0.46246,     0.46346,     0.46446,     0.46547,     0.46647,     0.46747,     0.46847,     0.46947,     0.47047,     0.47147,     0.47247,     0.47347,     0.47447,     0.47548,     0.47648,     0.47748,     0.47848,     0.47948,\n",
      "           0.48048,     0.48148,     0.48248,     0.48348,     0.48448,     0.48549,     0.48649,     0.48749,     0.48849,     0.48949,     0.49049,     0.49149,     0.49249,     0.49349,     0.49449,      0.4955,      0.4965,      0.4975,      0.4985,      0.4995,      0.5005,      0.5015,      0.5025,      0.5035,\n",
      "            0.5045,     0.50551,     0.50651,     0.50751,     0.50851,     0.50951,     0.51051,     0.51151,     0.51251,     0.51351,     0.51451,     0.51552,     0.51652,     0.51752,     0.51852,     0.51952,     0.52052,     0.52152,     0.52252,     0.52352,     0.52452,     0.52553,     0.52653,     0.52753,\n",
      "           0.52853,     0.52953,     0.53053,     0.53153,     0.53253,     0.53353,     0.53453,     0.53554,     0.53654,     0.53754,     0.53854,     0.53954,     0.54054,     0.54154,     0.54254,     0.54354,     0.54454,     0.54555,     0.54655,     0.54755,     0.54855,     0.54955,     0.55055,     0.55155,\n",
      "           0.55255,     0.55355,     0.55455,     0.55556,     0.55656,     0.55756,     0.55856,     0.55956,     0.56056,     0.56156,     0.56256,     0.56356,     0.56456,     0.56557,     0.56657,     0.56757,     0.56857,     0.56957,     0.57057,     0.57157,     0.57257,     0.57357,     0.57457,     0.57558,\n",
      "           0.57658,     0.57758,     0.57858,     0.57958,     0.58058,     0.58158,     0.58258,     0.58358,     0.58458,     0.58559,     0.58659,     0.58759,     0.58859,     0.58959,     0.59059,     0.59159,     0.59259,     0.59359,     0.59459,      0.5956,      0.5966,      0.5976,      0.5986,      0.5996,\n",
      "            0.6006,      0.6016,      0.6026,      0.6036,      0.6046,     0.60561,     0.60661,     0.60761,     0.60861,     0.60961,     0.61061,     0.61161,     0.61261,     0.61361,     0.61461,     0.61562,     0.61662,     0.61762,     0.61862,     0.61962,     0.62062,     0.62162,     0.62262,     0.62362,\n",
      "           0.62462,     0.62563,     0.62663,     0.62763,     0.62863,     0.62963,     0.63063,     0.63163,     0.63263,     0.63363,     0.63463,     0.63564,     0.63664,     0.63764,     0.63864,     0.63964,     0.64064,     0.64164,     0.64264,     0.64364,     0.64464,     0.64565,     0.64665,     0.64765,\n",
      "           0.64865,     0.64965,     0.65065,     0.65165,     0.65265,     0.65365,     0.65465,     0.65566,     0.65666,     0.65766,     0.65866,     0.65966,     0.66066,     0.66166,     0.66266,     0.66366,     0.66466,     0.66567,     0.66667,     0.66767,     0.66867,     0.66967,     0.67067,     0.67167,\n",
      "           0.67267,     0.67367,     0.67467,     0.67568,     0.67668,     0.67768,     0.67868,     0.67968,     0.68068,     0.68168,     0.68268,     0.68368,     0.68468,     0.68569,     0.68669,     0.68769,     0.68869,     0.68969,     0.69069,     0.69169,     0.69269,     0.69369,     0.69469,      0.6957,\n",
      "            0.6967,      0.6977,      0.6987,      0.6997,      0.7007,      0.7017,      0.7027,      0.7037,      0.7047,     0.70571,     0.70671,     0.70771,     0.70871,     0.70971,     0.71071,     0.71171,     0.71271,     0.71371,     0.71471,     0.71572,     0.71672,     0.71772,     0.71872,     0.71972,\n",
      "           0.72072,     0.72172,     0.72272,     0.72372,     0.72472,     0.72573,     0.72673,     0.72773,     0.72873,     0.72973,     0.73073,     0.73173,     0.73273,     0.73373,     0.73473,     0.73574,     0.73674,     0.73774,     0.73874,     0.73974,     0.74074,     0.74174,     0.74274,     0.74374,\n",
      "           0.74474,     0.74575,     0.74675,     0.74775,     0.74875,     0.74975,     0.75075,     0.75175,     0.75275,     0.75375,     0.75475,     0.75576,     0.75676,     0.75776,     0.75876,     0.75976,     0.76076,     0.76176,     0.76276,     0.76376,     0.76476,     0.76577,     0.76677,     0.76777,\n",
      "           0.76877,     0.76977,     0.77077,     0.77177,     0.77277,     0.77377,     0.77477,     0.77578,     0.77678,     0.77778,     0.77878,     0.77978,     0.78078,     0.78178,     0.78278,     0.78378,     0.78478,     0.78579,     0.78679,     0.78779,     0.78879,     0.78979,     0.79079,     0.79179,\n",
      "           0.79279,     0.79379,     0.79479,      0.7958,      0.7968,      0.7978,      0.7988,      0.7998,      0.8008,      0.8018,      0.8028,      0.8038,      0.8048,     0.80581,     0.80681,     0.80781,     0.80881,     0.80981,     0.81081,     0.81181,     0.81281,     0.81381,     0.81481,     0.81582,\n",
      "           0.81682,     0.81782,     0.81882,     0.81982,     0.82082,     0.82182,     0.82282,     0.82382,     0.82482,     0.82583,     0.82683,     0.82783,     0.82883,     0.82983,     0.83083,     0.83183,     0.83283,     0.83383,     0.83483,     0.83584,     0.83684,     0.83784,     0.83884,     0.83984,\n",
      "           0.84084,     0.84184,     0.84284,     0.84384,     0.84484,     0.84585,     0.84685,     0.84785,     0.84885,     0.84985,     0.85085,     0.85185,     0.85285,     0.85385,     0.85485,     0.85586,     0.85686,     0.85786,     0.85886,     0.85986,     0.86086,     0.86186,     0.86286,     0.86386,\n",
      "           0.86486,     0.86587,     0.86687,     0.86787,     0.86887,     0.86987,     0.87087,     0.87187,     0.87287,     0.87387,     0.87487,     0.87588,     0.87688,     0.87788,     0.87888,     0.87988,     0.88088,     0.88188,     0.88288,     0.88388,     0.88488,     0.88589,     0.88689,     0.88789,\n",
      "           0.88889,     0.88989,     0.89089,     0.89189,     0.89289,     0.89389,     0.89489,      0.8959,      0.8969,      0.8979,      0.8989,      0.8999,      0.9009,      0.9019,      0.9029,      0.9039,      0.9049,     0.90591,     0.90691,     0.90791,     0.90891,     0.90991,     0.91091,     0.91191,\n",
      "           0.91291,     0.91391,     0.91491,     0.91592,     0.91692,     0.91792,     0.91892,     0.91992,     0.92092,     0.92192,     0.92292,     0.92392,     0.92492,     0.92593,     0.92693,     0.92793,     0.92893,     0.92993,     0.93093,     0.93193,     0.93293,     0.93393,     0.93493,     0.93594,\n",
      "           0.93694,     0.93794,     0.93894,     0.93994,     0.94094,     0.94194,     0.94294,     0.94394,     0.94494,     0.94595,     0.94695,     0.94795,     0.94895,     0.94995,     0.95095,     0.95195,     0.95295,     0.95395,     0.95495,     0.95596,     0.95696,     0.95796,     0.95896,     0.95996,\n",
      "           0.96096,     0.96196,     0.96296,     0.96396,     0.96496,     0.96597,     0.96697,     0.96797,     0.96897,     0.96997,     0.97097,     0.97197,     0.97297,     0.97397,     0.97497,     0.97598,     0.97698,     0.97798,     0.97898,     0.97998,     0.98098,     0.98198,     0.98298,     0.98398,\n",
      "           0.98498,     0.98599,     0.98699,     0.98799,     0.98899,     0.98999,     0.99099,     0.99199,     0.99299,     0.99399,     0.99499,       0.996,       0.997,       0.998,       0.999,           1]), array([[    0.90317,     0.90317,      0.9015,     0.89983,     0.89649,     0.89566,     0.89482,     0.89316,     0.89316,     0.89232,     0.89232,     0.89065,     0.88982,     0.88731,     0.88648,     0.88564,     0.88397,     0.88397,     0.88397,     0.88314,     0.88314,     0.88314,     0.88314,\n",
      "            0.88314,     0.88314,     0.88314,      0.8823,     0.88147,     0.88147,     0.88147,     0.88063,      0.8798,      0.8798,      0.8798,      0.8798,      0.8798,      0.8798,      0.8798,      0.8798,      0.8798,     0.87813,      0.8773,      0.8773,     0.87646,     0.87646,     0.87646,\n",
      "            0.87646,     0.87646,     0.87563,     0.87563,     0.87563,     0.87563,     0.87396,     0.87396,     0.87396,     0.87312,     0.87312,     0.87145,     0.87145,     0.87062,     0.87062,     0.86978,     0.86978,     0.86895,     0.86895,     0.86728,     0.86728,     0.86728,     0.86728,\n",
      "            0.86728,     0.86728,      0.8667,     0.86561,     0.86477,     0.86477,     0.86311,     0.86311,     0.86144,     0.86144,      0.8606,      0.8606,      0.8606,      0.8606,     0.85977,     0.85977,     0.85893,     0.85893,     0.85893,     0.85893,     0.85893,     0.85878,      0.8581,\n",
      "             0.8581,     0.85726,     0.85726,     0.85726,     0.85726,     0.85726,     0.85726,     0.85643,     0.85559,     0.85559,     0.85559,     0.85559,     0.85476,     0.85476,     0.85476,     0.85392,     0.85392,     0.85392,     0.85309,     0.85309,     0.85309,     0.85225,     0.85142,\n",
      "            0.85058,     0.84896,     0.84808,     0.84725,     0.84641,     0.84558,     0.84558,     0.84558,     0.84474,     0.84474,     0.84474,     0.84343,     0.84307,     0.84307,     0.84307,     0.84307,     0.84228,     0.84182,      0.8414,      0.8414,      0.8414,     0.84006,     0.83973,\n",
      "            0.83973,     0.83806,     0.83723,     0.83723,     0.83723,     0.83639,     0.83639,     0.83639,     0.83639,     0.83556,     0.83556,     0.83556,     0.83556,     0.83505,     0.83472,     0.83472,     0.83472,     0.83472,     0.83472,     0.83472,     0.83472,     0.83365,     0.83306,\n",
      "            0.83222,     0.83222,     0.83139,     0.83139,     0.83103,     0.83055,     0.82972,     0.82972,     0.82972,     0.82972,     0.82888,     0.82888,     0.82805,     0.82805,     0.82805,     0.82721,     0.82721,     0.82721,     0.82709,     0.82638,     0.82638,     0.82638,     0.82577,\n",
      "            0.82554,     0.82554,     0.82554,     0.82554,     0.82554,     0.82554,     0.82384,     0.82304,     0.82229,      0.8222,      0.8222,      0.8222,      0.8222,     0.82207,     0.82137,     0.82137,     0.82137,     0.82137,     0.82053,     0.82053,      0.8197,      0.8197,     0.81886,\n",
      "            0.81886,     0.81817,     0.81803,     0.81803,      0.8172,      0.8172,     0.81604,     0.81553,     0.81533,     0.81469,     0.81469,     0.81469,     0.81469,     0.81469,     0.81469,     0.81469,     0.81469,     0.81469,     0.81469,     0.81469,     0.81469,     0.81469,     0.81469,\n",
      "            0.81386,     0.81386,     0.81386,     0.81386,     0.81371,     0.81219,     0.81219,      0.8102,     0.80885,     0.80885,     0.80885,     0.80885,     0.80831,     0.80801,     0.80801,     0.80658,     0.80634,     0.80634,     0.80634,     0.80634,     0.80634,     0.80634,     0.80585,\n",
      "            0.80551,     0.80551,     0.80467,     0.80467,     0.80467,     0.80467,     0.80467,     0.80431,     0.80384,     0.80265,     0.80217,     0.80134,     0.80134,     0.80134,     0.80134,     0.80134,      0.8005,     0.80035,     0.79945,     0.79871,     0.79716,     0.79716,     0.79716,\n",
      "            0.79716,     0.79659,     0.79633,     0.79633,     0.79633,     0.79633,     0.79632,     0.79518,     0.79466,     0.79349,     0.79299,     0.79299,     0.79299,     0.79299,     0.79299,     0.79299,     0.79299,     0.79215,     0.79215,     0.79215,      0.7919,     0.79132,     0.79132,\n",
      "            0.79048,     0.79029,     0.78972,     0.78965,     0.78965,     0.78965,     0.78965,     0.78965,     0.78883,     0.78881,     0.78881,     0.78881,     0.78798,     0.78798,     0.78798,     0.78798,     0.78798,     0.78798,     0.78798,     0.78798,     0.78798,     0.78798,     0.78798,\n",
      "            0.78798,     0.78715,     0.78621,     0.78563,     0.78548,     0.78548,     0.78548,     0.78548,     0.78548,     0.78548,     0.78548,     0.78548,     0.78369,     0.78328,     0.78297,     0.78297,     0.78297,     0.78214,     0.78214,     0.78195,     0.78112,     0.78069,     0.78031,\n",
      "            0.77997,     0.77963,     0.77963,     0.77963,     0.77961,     0.77933,     0.77906,      0.7788,     0.77796,     0.77796,     0.77789,      0.7775,     0.77711,     0.77629,     0.77629,     0.77569,     0.77546,     0.77489,     0.77417,     0.77356,     0.77314,     0.77212,     0.77212,\n",
      "            0.77212,     0.77212,     0.77212,      0.7721,     0.77183,     0.77156,     0.77129,     0.76975,     0.76962,     0.76788,     0.76732,     0.76711,     0.76711,     0.76711,     0.76701,     0.76628,     0.76628,     0.76628,     0.76622,     0.76544,     0.76543,     0.76508,     0.76474,\n",
      "            0.76377,      0.7635,     0.76304,     0.76294,     0.76294,     0.76294,     0.76294,     0.76294,      0.7621,      0.7621,      0.7621,     0.76179,     0.76147,     0.76127,     0.76127,     0.76127,     0.76127,     0.76024,      0.7596,     0.75923,     0.75876,     0.75876,     0.75793,\n",
      "            0.75793,     0.75793,     0.75793,     0.75793,     0.75793,     0.75793,     0.75793,     0.75793,     0.75793,     0.75793,     0.75728,     0.75684,     0.75632,      0.7545,     0.75435,     0.75421,     0.75407,     0.75393,     0.75378,     0.75376,     0.75376,     0.75376,     0.75376,\n",
      "            0.75376,     0.75314,     0.75209,     0.75209,     0.75184,     0.75127,     0.75125,     0.75125,     0.75125,     0.75042,     0.75034,     0.74973,     0.74926,     0.74884,     0.74841,     0.74799,     0.74765,     0.74732,     0.74708,     0.74708,     0.74708,     0.74708,     0.74708,\n",
      "            0.74695,     0.74681,     0.74667,     0.74653,     0.74639,     0.74625,     0.74591,     0.74541,     0.74541,     0.74541,     0.74541,     0.74541,     0.74541,     0.74541,     0.74541,     0.74541,     0.74536,     0.74506,     0.74477,     0.74425,     0.74279,     0.74207,     0.74207,\n",
      "            0.74207,     0.74207,     0.74137,     0.74124,     0.74119,     0.73957,     0.73957,     0.73957,     0.73957,     0.73957,     0.73957,     0.73898,     0.73722,     0.73578,      0.7352,     0.73423,     0.73199,     0.73122,     0.73038,     0.73038,     0.73038,     0.73038,     0.73038,\n",
      "            0.73014,     0.72953,     0.72903,     0.72867,     0.72792,     0.72717,     0.72621,     0.72612,      0.7232,     0.72193,     0.72169,     0.72146,     0.72123,      0.7212,      0.7212,     0.72109,     0.72069,     0.72037,     0.71992,     0.71937,     0.71919,       0.719,     0.71882,\n",
      "             0.7186,     0.71832,     0.71803,      0.7177,     0.71728,     0.71693,      0.7167,     0.71646,     0.71623,     0.71551,     0.71452,     0.71452,     0.71452,     0.71452,      0.7143,      0.7139,     0.71301,     0.71285,     0.71285,     0.71285,     0.71262,     0.71221,     0.71181,\n",
      "            0.71123,     0.71113,     0.71096,      0.7108,     0.71063,     0.71047,     0.70996,     0.70952,     0.70952,     0.70952,     0.70947,     0.70816,     0.70538,     0.70534,     0.70534,     0.70534,     0.70534,     0.70486,     0.70386,     0.70367,     0.70367,     0.70313,       0.702,\n",
      "            0.70162,     0.70112,      0.7009,     0.70068,     0.70046,     0.69952,      0.6995,     0.69891,     0.69746,     0.69668,      0.6962,     0.69523,     0.69501,     0.69478,     0.69455,     0.69389,     0.69244,     0.69053,     0.69032,     0.69022,     0.68917,     0.68827,     0.68771,\n",
      "            0.68747,     0.68722,     0.68698,     0.68534,     0.68447,     0.68407,     0.68367,     0.68364,     0.68364,     0.68212,     0.67997,     0.67839,      0.6781,      0.6778,     0.67574,      0.6746,     0.67334,     0.67294,     0.67058,     0.67001,     0.66965,     0.66804,     0.66694,\n",
      "            0.66694,     0.66604,     0.66505,     0.66347,     0.66296,     0.66254,     0.66216,     0.66103,     0.66076,      0.6605,     0.65932,     0.65767,     0.65739,     0.65712,     0.65661,     0.65506,     0.65405,     0.65229,     0.65172,     0.65133,     0.64958,     0.64889,     0.64832,\n",
      "            0.64774,     0.64725,     0.64574,     0.64498,     0.64456,     0.64438,     0.64412,     0.64386,     0.64359,     0.64219,     0.64054,     0.63931,     0.63909,     0.63887,     0.63864,      0.6384,     0.63814,     0.63788,     0.63617,     0.63412,     0.63353,     0.63247,     0.63105,\n",
      "            0.63105,     0.63017,     0.62735,     0.62567,     0.62361,      0.6217,     0.62111,     0.61924,     0.61796,     0.61651,     0.61541,     0.61333,     0.61262,     0.61185,     0.61071,     0.61036,     0.60845,     0.60817,      0.6079,     0.60642,      0.6047,     0.60155,     0.59952,\n",
      "            0.59653,     0.59507,     0.59445,     0.59255,     0.59169,     0.59131,     0.59034,     0.58671,     0.58486,     0.58296,     0.58156,     0.58083,     0.58033,     0.57922,     0.57903,     0.57884,     0.57865,     0.57845,     0.57778,      0.5759,     0.57531,     0.57408,     0.57327,\n",
      "            0.57295,     0.57262,     0.57205,     0.56995,     0.56825,     0.56654,     0.56596,     0.56534,     0.56412,     0.56296,     0.56043,     0.55849,     0.55749,     0.55532,     0.55406,     0.55381,     0.55355,     0.55083,     0.54925,     0.54754,     0.54616,     0.54591,     0.54423,\n",
      "            0.54298,     0.54257,     0.53989,     0.53814,     0.53602,     0.53463,     0.53172,     0.53172,     0.53003,     0.52693,     0.52462,     0.52408,     0.52361,     0.52242,     0.52119,     0.51946,     0.51796,     0.51626,     0.51503,     0.51503,     0.51485,     0.51225,     0.51123,\n",
      "            0.50865,     0.50678,      0.5031,     0.50275,      0.5008,     0.49967,     0.49738,     0.49674,     0.49615,     0.49528,     0.49456,     0.49406,      0.4937,     0.49334,     0.49035,     0.48888,     0.48635,     0.48522,     0.48206,     0.48047,     0.48005,     0.47952,     0.47881,\n",
      "            0.47755,      0.4756,      0.4751,     0.47358,      0.4719,      0.4689,     0.46758,      0.4653,     0.46476,     0.46427,     0.46353,     0.46283,     0.46148,     0.45834,     0.45611,     0.45471,     0.45361,     0.45268,     0.44962,     0.44895,     0.44849,     0.44779,     0.44454,\n",
      "            0.44105,     0.43815,     0.43587,     0.43497,     0.43154,     0.42965,     0.42725,     0.42326,     0.42049,      0.4192,     0.41563,     0.41378,     0.41159,     0.41005,     0.40715,     0.40425,     0.40138,     0.40011,     0.39737,     0.39293,     0.39131,     0.38978,     0.38792,\n",
      "            0.38361,     0.37979,     0.37885,     0.37839,     0.37778,     0.37628,     0.37449,     0.37168,      0.3687,     0.36536,     0.36353,      0.3607,       0.357,     0.35434,     0.35209,      0.3489,     0.34558,     0.33982,     0.33719,     0.33487,     0.33031,     0.32746,     0.32536,\n",
      "            0.32208,      0.3194,     0.31589,     0.31254,     0.30777,      0.3061,     0.30452,     0.30117,      0.2987,     0.29342,     0.29223,     0.28952,     0.28791,     0.28206,     0.27923,     0.27076,     0.26616,     0.26392,     0.26156,     0.25511,     0.24816,      0.2421,     0.23649,\n",
      "            0.22953,      0.2251,      0.2218,     0.21647,     0.21137,     0.20223,     0.20114,     0.19918,     0.18909,     0.18278,     0.17671,     0.17008,     0.16315,     0.15264,     0.14622,      0.1409,     0.13323,     0.12802,     0.11685,     0.10926,     0.10396,    0.096637,    0.090246,\n",
      "           0.085071,    0.080458,    0.071635,    0.061737,      0.0546,    0.046818,    0.043529,    0.035907,    0.029966,    0.028498,    0.026126,    0.022858,    0.019084,    0.017743,     0.01461,    0.012202,   0.0089224,   0.0064049,    0.005937,   0.0047391,   0.0027361,   0.0023622,    0.002201,\n",
      "          0.0020397,   0.0018784,   0.0017172,    0.001426,   0.0010804,           0,           0,           0,           0,           0,           0,           0,           0,           0,           0,           0,           0,           0,           0,           0,           0,           0,           0,\n",
      "                  0,           0,           0,           0,           0,           0,           0,           0,           0,           0,           0,           0,           0,           0,           0,           0,           0,           0,           0,           0,           0,           0,           0,\n",
      "                  0,           0,           0,           0,           0,           0,           0,           0,           0,           0,           0,           0,           0,           0,           0,           0,           0,           0,           0,           0,           0,           0,           0,\n",
      "                  0,           0,           0,           0,           0,           0,           0,           0,           0,           0,           0]]), 'Confidence', 'Recall']]\n",
      "fitness: 0.6111822306299108\n",
      "keys: ['metrics/precision(B)', 'metrics/recall(B)', 'metrics/mAP50(B)', 'metrics/mAP50-95(B)']\n",
      "maps: array([    0.58416])\n",
      "names: {0: 'face'}\n",
      "plot: True\n",
      "results_dict: {'metrics/precision(B)': 0.9328890882129401, 'metrics/recall(B)': 0.7542121693981267, 'metrics/mAP50(B)': 0.8544244874973196, 'metrics/mAP50-95(B)': 0.5841553132001988, 'fitness': 0.6111822306299108}\n",
      "save_dir: WindowsPath('face_detection/exp1')\n",
      "speed: {'preprocess': 0.09893391230334973, 'inference': 1.7020655186390405, 'loss': 0.0, 'postprocess': 1.1250711467168102}\n",
      "task: 'detect'\n"
     ]
    }
   ],
   "source": [
    "%cd C:\\Users\\RYZEN\\Desktop\\face_model\\Face-Detectron-1\n",
    "from ultralytics import YOLO\n",
    "\n",
    "# Initialize model\n",
    "model = YOLO()\n",
    "\n",
    "# Train with TensorBoard logging\n",
    "results = model.train(\n",
    "    data=r\"C:\\Users\\RYZEN\\Desktop\\face_model\\Face-Detectron-1\\data.yaml\",\n",
    "    epochs=20,\n",
    "    batch=16,  \n",
    "    project='face_detection',\n",
    "    name='exp1',\n",
    "    device='cuda',  # Specify GPU usage\n",
    "    amp=False,  # Disable AMP \n",
    "    imgsz=256,  # Set image size to 640x640; 416x416; 256x256\n",
    ")\n",
    "\n",
    "# Print training results\n",
    "print(f\"Training Results: {results}\")"
   ]
  },
  {
   "cell_type": "markdown",
   "metadata": {},
   "source": [
    "VALIDATE MODEL USING VALID DATA:"
   ]
  },
  {
   "cell_type": "code",
   "execution_count": 4,
   "metadata": {},
   "outputs": [
    {
     "name": "stdout",
     "output_type": "stream",
     "text": [
      "C:\\Users\\RYZEN\\Desktop\\face_model\\Face-Detectron-1\n",
      "Ultralytics 8.3.3  Python-3.11.5 torch-2.6.0.dev20241001+cu124 CUDA:0 (NVIDIA GeForce GTX 1650 SUPER, 4096MiB)\n",
      "Model summary (fused): 186 layers, 2,684,563 parameters, 0 gradients, 6.8 GFLOPs\n"
     ]
    },
    {
     "name": "stderr",
     "output_type": "stream",
     "text": [
      "\u001b[34m\u001b[1mval: \u001b[0mScanning C:\\Users\\RYZEN\\Desktop\\face_model\\Face-Detectron-1\\valid\\labels.cache... 657 images, 118 backgrounds, 0 corrupt: 100%|██████████| 657/657 [00:00<?, ?it/s]\n",
      "                 Class     Images  Instances      Box(P          R      mAP50  mAP50-95): 100%|██████████| 42/42 [00:04<00:00,  8.62it/s]\n"
     ]
    },
    {
     "name": "stdout",
     "output_type": "stream",
     "text": [
      "                   all        657       1198      0.933      0.754      0.854      0.584\n",
      "Speed: 0.1ms preprocess, 2.0ms inference, 0.0ms loss, 1.2ms postprocess per image\n",
      "Results saved to \u001b[1mruns\\detect\\val\u001b[0m\n"
     ]
    },
    {
     "data": {
      "text/plain": [
       "0.7542121693981267"
      ]
     },
     "execution_count": 4,
     "metadata": {},
     "output_type": "execute_result"
    }
   ],
   "source": [
    "%cd C:\\Users\\RYZEN\\Desktop\\face_model\\Face-Detectron-1\n",
    "from ultralytics import YOLO\n",
    "\n",
    "# Load a model\n",
    "model = YOLO('C:\\\\Users\\\\RYZEN\\\\Desktop\\\\face_model\\\\Face-Detectron-1\\\\face_detection\\\\exp1\\\\weights\\\\best.pt')\n",
    "\n",
    "# Validate the model\n",
    "metrics = model.val()  # no arguments needed, dataset and settings remembered\n",
    "metrics.box.map    # map50-95\n",
    "metrics.box.map50  # map50\n",
    "metrics.box.map75  # map75\n",
    "metrics.box.maps   # a list contains map50-95 of each category\n",
    "metrics.box.mp    # P\n",
    "metrics.box.mr    # R"
   ]
  },
  {
   "cell_type": "markdown",
   "metadata": {},
   "source": [
    "VALIDATE MODEL USING TEST DATA:"
   ]
  },
  {
   "cell_type": "code",
   "execution_count": 1,
   "metadata": {},
   "outputs": [
    {
     "name": "stdout",
     "output_type": "stream",
     "text": [
      "C:\\Users\\RYZEN\\Desktop\\face_model\\Face-Detectron-1\n",
      "Ultralytics 8.3.3 🚀 Python-3.11.5 torch-2.6.0.dev20241001+cu124 CUDA:0 (NVIDIA GeForce GTX 1650 SUPER, 4096MiB)\n",
      "Model summary (fused): 186 layers, 2,684,563 parameters, 0 gradients, 6.8 GFLOPs\n",
      "\u001b[34m\u001b[1mval: \u001b[0mNew cache created: C:\\Users\\RYZEN\\Desktop\\face_model\\Face-Detectron-1\\test\\labels.cache\n",
      "                   all        328        477       0.95      0.844      0.918      0.661\n",
      "Speed: 0.1ms preprocess, 2.5ms inference, 0.0ms loss, 1.1ms postprocess per image\n",
      "Results saved to \u001b[1mruns\\detect\\val2\u001b[0m\n",
      "💡 Learn more at https://docs.ultralytics.com/modes/val\n"
     ]
    },
    {
     "name": "stderr",
     "output_type": "stream",
     "text": [
      "\n",
      "\u001b[34m\u001b[1mval: \u001b[0mScanning C:\\Users\\RYZEN\\Desktop\\face_model\\Face-Detectron-1\\test\\labels...:   0%|          | 0/328 [00:00<?, ?it/s]\n",
      "\u001b[34m\u001b[1mval: \u001b[0mScanning C:\\Users\\RYZEN\\Desktop\\face_model\\Face-Detectron-1\\test\\labels... 35 images, 10 backgrounds, 0 corrupt:  11%|█         | 35/328 [00:00<00:00, 340.22it/s]\n",
      "\u001b[34m\u001b[1mval: \u001b[0mScanning C:\\Users\\RYZEN\\Desktop\\face_model\\Face-Detectron-1\\test\\labels... 85 images, 24 backgrounds, 0 corrupt:  26%|██▌       | 85/328 [00:00<00:00, 428.07it/s]\n",
      "\u001b[34m\u001b[1mval: \u001b[0mScanning C:\\Users\\RYZEN\\Desktop\\face_model\\Face-Detectron-1\\test\\labels... 128 images, 34 backgrounds, 0 corrupt:  39%|███▉      | 128/328 [00:00<00:00, 428.90it/s]\n",
      "\u001b[34m\u001b[1mval: \u001b[0mScanning C:\\Users\\RYZEN\\Desktop\\face_model\\Face-Detectron-1\\test\\labels... 171 images, 35 backgrounds, 0 corrupt:  52%|█████▏    | 171/328 [00:00<00:00, 423.03it/s]\n",
      "\u001b[34m\u001b[1mval: \u001b[0mScanning C:\\Users\\RYZEN\\Desktop\\face_model\\Face-Detectron-1\\test\\labels... 214 images, 43 backgrounds, 0 corrupt:  65%|██████▌   | 214/328 [00:00<00:00, 402.58it/s]\n",
      "\u001b[34m\u001b[1mval: \u001b[0mScanning C:\\Users\\RYZEN\\Desktop\\face_model\\Face-Detectron-1\\test\\labels... 255 images, 43 backgrounds, 0 corrupt:  78%|███████▊  | 255/328 [00:00<00:00, 404.96it/s]\n",
      "\u001b[34m\u001b[1mval: \u001b[0mScanning C:\\Users\\RYZEN\\Desktop\\face_model\\Face-Detectron-1\\test\\labels... 297 images, 43 backgrounds, 0 corrupt:  91%|█████████ | 297/328 [00:00<00:00, 405.84it/s]\n",
      "\u001b[34m\u001b[1mval: \u001b[0mScanning C:\\Users\\RYZEN\\Desktop\\face_model\\Face-Detectron-1\\test\\labels... 328 images, 64 backgrounds, 0 corrupt: 100%|██████████| 328/328 [00:00<00:00, 424.43it/s]\n",
      "\n",
      "                 Class     Images  Instances      Box(P          R      mAP50  mAP50-95):   0%|          | 0/21 [00:00<?, ?it/s]\n",
      "                 Class     Images  Instances      Box(P          R      mAP50  mAP50-95):   5%|▍         | 1/21 [00:00<00:09,  2.10it/s]\n",
      "                 Class     Images  Instances      Box(P          R      mAP50  mAP50-95):  10%|▉         | 2/21 [00:00<00:05,  3.36it/s]\n",
      "                 Class     Images  Instances      Box(P          R      mAP50  mAP50-95):  14%|█▍        | 3/21 [00:00<00:04,  4.31it/s]\n",
      "                 Class     Images  Instances      Box(P          R      mAP50  mAP50-95):  19%|█▉        | 4/21 [00:00<00:03,  5.06it/s]\n",
      "                 Class     Images  Instances      Box(P          R      mAP50  mAP50-95):  29%|██▊       | 6/21 [00:01<00:02,  7.13it/s]\n",
      "                 Class     Images  Instances      Box(P          R      mAP50  mAP50-95):  38%|███▊      | 8/21 [00:01<00:01,  9.27it/s]\n",
      "                 Class     Images  Instances      Box(P          R      mAP50  mAP50-95):  48%|████▊     | 10/21 [00:01<00:01,  9.44it/s]\n",
      "                 Class     Images  Instances      Box(P          R      mAP50  mAP50-95):  57%|█████▋    | 12/21 [00:01<00:00, 10.03it/s]\n",
      "                 Class     Images  Instances      Box(P          R      mAP50  mAP50-95):  67%|██████▋   | 14/21 [00:01<00:00, 10.51it/s]\n",
      "                 Class     Images  Instances      Box(P          R      mAP50  mAP50-95):  76%|███████▌  | 16/21 [00:01<00:00, 11.08it/s]\n",
      "                 Class     Images  Instances      Box(P          R      mAP50  mAP50-95):  86%|████████▌ | 18/21 [00:02<00:00, 10.92it/s]\n",
      "                 Class     Images  Instances      Box(P          R      mAP50  mAP50-95):  95%|█████████▌| 20/21 [00:02<00:00, 11.59it/s]\n",
      "                 Class     Images  Instances      Box(P          R      mAP50  mAP50-95): 100%|██████████| 21/21 [00:02<00:00,  8.80it/s]\n"
     ]
    }
   ],
   "source": [
    "%cd C:\\Users\\RYZEN\\Desktop\\face_model\\Face-Detectron-1\n",
    "\n",
    "!yolo val model=C:\\\\Users\\\\RYZEN\\\\Desktop\\\\face_model\\\\Face-Detectron-1\\\\face_detection\\\\exp1\\\\weights\\\\best.pt data=C:\\\\Users\\\\RYZEN\\\\Desktop\\\\face_model\\\\Face-Detectron-1\\\\data.yaml split=test"
   ]
  }
 ],
 "metadata": {
  "kernelspec": {
   "display_name": "Python 3",
   "language": "python",
   "name": "python3"
  },
  "language_info": {
   "codemirror_mode": {
    "name": "ipython",
    "version": 3
   },
   "file_extension": ".py",
   "mimetype": "text/x-python",
   "name": "python",
   "nbconvert_exporter": "python",
   "pygments_lexer": "ipython3",
   "version": "3.11.5"
  }
 },
 "nbformat": 4,
 "nbformat_minor": 2
}
